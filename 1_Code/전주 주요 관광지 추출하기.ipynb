{
 "cells": [
  {
   "cell_type": "code",
   "execution_count": null,
   "id": "451ad0d6",
   "metadata": {},
   "outputs": [],
   "source": [
    "import requests\n",
    "\n",
    "from bs4 import BeautifulSoup\n",
    "from urllib.request import urlopen\n",
    "from selenium import webdriver\n",
    "import time\n",
    "from selenium.webdriver.common.keys import Keys\n",
    "from IPython.core.interactiveshell import InteractiveShell\n",
    "InteractiveShell.ast_node_interactivity=\"all\"\n",
    "import pandas as pd"
   ]
  },
  {
   "cell_type": "code",
   "execution_count": null,
   "id": "7b80de5a",
   "metadata": {},
   "outputs": [],
   "source": [
    "### 구글 트레블 홈페이지에서 전주 대표 관광지 추출하기"
   ]
  },
  {
   "cell_type": "code",
   "execution_count": null,
   "id": "a8219fa1",
   "metadata": {},
   "outputs": [],
   "source": [
    "url = \"https://www.google.com/travel/\"\n",
    "res = requests.get(url)\n"
   ]
  },
  {
   "cell_type": "code",
   "execution_count": null,
   "id": "3b95138b",
   "metadata": {},
   "outputs": [],
   "source": [
    "from selenium.webdriver.chrome.options import Options \n",
    "options = Options() \n",
    "options.binary_location= 'C:\\Program Files (x86)\\Google\\Chrome\\Application\\chrome.exe' \n",
    "\n",
    "driver = webdriver.Chrome(\"../WebCrawl/Driver/chromedriver\",chrome_options = options)\n",
    "driver.get(\"https://www.google.com/travel/\")"
   ]
  },
  {
   "cell_type": "code",
   "execution_count": null,
   "id": "91f2bf60",
   "metadata": {},
   "outputs": [],
   "source": [
    "loca_search = driver.find_element_by_id('oA4zhb')\n",
    "loca_search.clear()\n",
    "loca_search.send_keys('전주')\n",
    "time.sleep(3)\n",
    "loca_search.send_keys(Keys.ENTER)"
   ]
  },
  {
   "cell_type": "code",
   "execution_count": null,
   "id": "9f954f80",
   "metadata": {},
   "outputs": [],
   "source": [
    "whole_page = driver.page_source\n",
    "soup = BeautifulSoup(whole_page,'html.parser')\n",
    "\n"
   ]
  },
  {
   "cell_type": "code",
   "execution_count": null,
   "id": "92a7ea5e",
   "metadata": {},
   "outputs": [],
   "source": [
    "title = soup.find_all('div',{'class':'skFvHc YmWhbc'})\n",
    "location = []\n",
    "for name in title:\n",
    "    location.append(name.text)\n",
    "#     location.append(place)\n",
    "location"
   ]
  },
  {
   "cell_type": "code",
   "execution_count": null,
   "id": "64994fc5",
   "metadata": {},
   "outputs": [],
   "source": [
    "JUN_location = pd.DataFrame(location,index=range(1,len(JUN_location)+1),columns=['place'])\n",
    "JUN_location\n",
    "JUN_location.to_csv('전주_주요관광지.csv')"
   ]
  },
  {
   "cell_type": "code",
   "execution_count": null,
   "id": "67475a59",
   "metadata": {},
   "outputs": [],
   "source": []
  },
  {
   "cell_type": "code",
   "execution_count": null,
   "id": "5d723658",
   "metadata": {},
   "outputs": [],
   "source": []
  },
  {
   "cell_type": "code",
   "execution_count": null,
   "id": "a5b728c5",
   "metadata": {},
   "outputs": [],
   "source": []
  },
  {
   "cell_type": "code",
   "execution_count": null,
   "id": "6b8fbce2",
   "metadata": {},
   "outputs": [],
   "source": []
  },
  {
   "cell_type": "code",
   "execution_count": null,
   "id": "d9b1f53b",
   "metadata": {},
   "outputs": [],
   "source": []
  }
 ],
 "metadata": {
  "kernelspec": {
   "display_name": "Python 3",
   "language": "python",
   "name": "python3"
  },
  "language_info": {
   "codemirror_mode": {
    "name": "ipython",
    "version": 3
   },
   "file_extension": ".py",
   "mimetype": "text/x-python",
   "name": "python",
   "nbconvert_exporter": "python",
   "pygments_lexer": "ipython3",
   "version": "3.8.8"
  }
 },
 "nbformat": 4,
 "nbformat_minor": 5
}
