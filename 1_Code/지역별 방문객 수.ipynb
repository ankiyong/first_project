{
 "cells": [
  {
   "cell_type": "code",
   "execution_count": 1,
   "id": "f65af0a7",
   "metadata": {},
   "outputs": [],
   "source": [
    "import pandas as pd\n",
    "import numpy as np"
   ]
  },
  {
   "cell_type": "code",
   "execution_count": 2,
   "id": "7225bd1e",
   "metadata": {},
   "outputs": [],
   "source": [
    "import matplotlib.pyplot as plt\n",
    "%matplotlib inline"
   ]
  },
  {
   "cell_type": "code",
   "execution_count": 3,
   "id": "ab685fa3",
   "metadata": {},
   "outputs": [],
   "source": [
    "from IPython.core.interactiveshell import InteractiveShell\n",
    "InteractiveShell.ast_node_interactivity=\"all\""
   ]
  },
  {
   "cell_type": "code",
   "execution_count": 4,
   "id": "abfab1af",
   "metadata": {},
   "outputs": [],
   "source": [
    "# 한글 문제\n",
    "# matplotlit의 기본 폰트에서 한글 지원되지 않기 때문에\n",
    "# matplotlib의 폰트 변경 필요\n",
    "import platform\n",
    "\n",
    "from matplotlib import font_manager, rc\n",
    "plt.rcParams['axes.unicode_minus'] = False\n",
    "\n",
    "if platform.system() == 'Darwin':  # 맥OS \n",
    "    rc('font', family='AppleGothic')\n",
    "elif platform.system() == 'Windows':  # 윈도우\n",
    "    path = \"c:/Windows/Fonts/malgun.ttf\"\n",
    "    font_name = font_manager.FontProperties(fname=path).get_name()\n",
    "    rc('font', family=font_name)\n",
    "else:\n",
    "    print('Unknown system...  sorry~~~')"
   ]
  },
  {
   "cell_type": "code",
   "execution_count": 5,
   "id": "de40e989",
   "metadata": {},
   "outputs": [],
   "source": [
    "visitor = pd.read_csv('data/방문객_수_종합.csv',encoding = 'utf-8')"
   ]
  },
  {
   "cell_type": "code",
   "execution_count": 6,
   "id": "5779a4ad",
   "metadata": {
    "scrolled": true
   },
   "outputs": [
    {
     "data": {
      "text/html": [
       "<div>\n",
       "<style scoped>\n",
       "    .dataframe tbody tr th:only-of-type {\n",
       "        vertical-align: middle;\n",
       "    }\n",
       "\n",
       "    .dataframe tbody tr th {\n",
       "        vertical-align: top;\n",
       "    }\n",
       "\n",
       "    .dataframe thead th {\n",
       "        text-align: right;\n",
       "    }\n",
       "</style>\n",
       "<table border=\"1\" class=\"dataframe\">\n",
       "  <thead>\n",
       "    <tr style=\"text-align: right;\">\n",
       "      <th></th>\n",
       "      <th>년</th>\n",
       "      <th>기초지자체</th>\n",
       "      <th>현지인(a)</th>\n",
       "      <th>외지인(b)</th>\n",
       "      <th>외국인(c)</th>\n",
       "      <th>내국인(a+b)</th>\n",
       "      <th>외부방문자(b+c)</th>\n",
       "      <th>전체방문자(a+b+c)</th>\n",
       "    </tr>\n",
       "  </thead>\n",
       "  <tbody>\n",
       "    <tr>\n",
       "      <th>0</th>\n",
       "      <td>2018</td>\n",
       "      <td>강릉시</td>\n",
       "      <td>9167249</td>\n",
       "      <td>31244031</td>\n",
       "      <td>418154</td>\n",
       "      <td>40411280</td>\n",
       "      <td>31662185.0</td>\n",
       "      <td>40829434</td>\n",
       "    </tr>\n",
       "    <tr>\n",
       "      <th>1</th>\n",
       "      <td>2018</td>\n",
       "      <td>전주시</td>\n",
       "      <td>10495256</td>\n",
       "      <td>37292555</td>\n",
       "      <td>111949</td>\n",
       "      <td>47787810</td>\n",
       "      <td>37404503.5</td>\n",
       "      <td>47899759</td>\n",
       "    </tr>\n",
       "    <tr>\n",
       "      <th>2</th>\n",
       "      <td>2018</td>\n",
       "      <td>목포시</td>\n",
       "      <td>9248442</td>\n",
       "      <td>22355071</td>\n",
       "      <td>68942</td>\n",
       "      <td>31603513</td>\n",
       "      <td>22424013.0</td>\n",
       "      <td>31672455</td>\n",
       "    </tr>\n",
       "    <tr>\n",
       "      <th>3</th>\n",
       "      <td>2018</td>\n",
       "      <td>부산광역시</td>\n",
       "      <td>77002999</td>\n",
       "      <td>145717600</td>\n",
       "      <td>3910899</td>\n",
       "      <td>222720599</td>\n",
       "      <td>149628499.0</td>\n",
       "      <td>226631499</td>\n",
       "    </tr>\n",
       "    <tr>\n",
       "      <th>4</th>\n",
       "      <td>2018</td>\n",
       "      <td>안동시</td>\n",
       "      <td>6835122</td>\n",
       "      <td>18414046</td>\n",
       "      <td>56740</td>\n",
       "      <td>25249168</td>\n",
       "      <td>18470786.0</td>\n",
       "      <td>25305908</td>\n",
       "    </tr>\n",
       "    <tr>\n",
       "      <th>5</th>\n",
       "      <td>2019</td>\n",
       "      <td>강릉시</td>\n",
       "      <td>51030368</td>\n",
       "      <td>32137920</td>\n",
       "      <td>161141</td>\n",
       "      <td>83168288</td>\n",
       "      <td>32299061.0</td>\n",
       "      <td>83329429</td>\n",
       "    </tr>\n",
       "    <tr>\n",
       "      <th>6</th>\n",
       "      <td>2019</td>\n",
       "      <td>전주시</td>\n",
       "      <td>61336137</td>\n",
       "      <td>36765379</td>\n",
       "      <td>144686</td>\n",
       "      <td>98101516</td>\n",
       "      <td>36910065.0</td>\n",
       "      <td>98246202</td>\n",
       "    </tr>\n",
       "    <tr>\n",
       "      <th>7</th>\n",
       "      <td>2019</td>\n",
       "      <td>목포시</td>\n",
       "      <td>54444733</td>\n",
       "      <td>23609856</td>\n",
       "      <td>99406</td>\n",
       "      <td>78054588</td>\n",
       "      <td>23709261.0</td>\n",
       "      <td>78153994</td>\n",
       "    </tr>\n",
       "    <tr>\n",
       "      <th>8</th>\n",
       "      <td>2019</td>\n",
       "      <td>부산광역시</td>\n",
       "      <td>472292712</td>\n",
       "      <td>149672134</td>\n",
       "      <td>5284413</td>\n",
       "      <td>621964847</td>\n",
       "      <td>154956548.0</td>\n",
       "      <td>627249260</td>\n",
       "    </tr>\n",
       "    <tr>\n",
       "      <th>9</th>\n",
       "      <td>2019</td>\n",
       "      <td>안동시</td>\n",
       "      <td>41153724</td>\n",
       "      <td>18972849</td>\n",
       "      <td>75528</td>\n",
       "      <td>60126574</td>\n",
       "      <td>19048377.0</td>\n",
       "      <td>60202102</td>\n",
       "    </tr>\n",
       "    <tr>\n",
       "      <th>10</th>\n",
       "      <td>2020</td>\n",
       "      <td>강릉시</td>\n",
       "      <td>56888227</td>\n",
       "      <td>31213630</td>\n",
       "      <td>30641</td>\n",
       "      <td>88101856</td>\n",
       "      <td>31244271.0</td>\n",
       "      <td>88132497</td>\n",
       "    </tr>\n",
       "    <tr>\n",
       "      <th>11</th>\n",
       "      <td>2020</td>\n",
       "      <td>전주시</td>\n",
       "      <td>59348634</td>\n",
       "      <td>31472464</td>\n",
       "      <td>27739</td>\n",
       "      <td>90821098</td>\n",
       "      <td>31500203.0</td>\n",
       "      <td>90848837</td>\n",
       "    </tr>\n",
       "    <tr>\n",
       "      <th>12</th>\n",
       "      <td>2020</td>\n",
       "      <td>목포시</td>\n",
       "      <td>52771778</td>\n",
       "      <td>21274212</td>\n",
       "      <td>24089</td>\n",
       "      <td>74045990</td>\n",
       "      <td>21298301.0</td>\n",
       "      <td>74070080</td>\n",
       "    </tr>\n",
       "    <tr>\n",
       "      <th>13</th>\n",
       "      <td>2020</td>\n",
       "      <td>부산광역시</td>\n",
       "      <td>478526010</td>\n",
       "      <td>124725884</td>\n",
       "      <td>939414</td>\n",
       "      <td>603251894</td>\n",
       "      <td>125665298.0</td>\n",
       "      <td>604191308</td>\n",
       "    </tr>\n",
       "    <tr>\n",
       "      <th>14</th>\n",
       "      <td>2020</td>\n",
       "      <td>안동시</td>\n",
       "      <td>40787393</td>\n",
       "      <td>15894109</td>\n",
       "      <td>9918</td>\n",
       "      <td>56681502</td>\n",
       "      <td>15904027.0</td>\n",
       "      <td>56691421</td>\n",
       "    </tr>\n",
       "  </tbody>\n",
       "</table>\n",
       "</div>"
      ],
      "text/plain": [
       "       년  기초지자체     현지인(a)     외지인(b)   외국인(c)   내국인(a+b)   외부방문자(b+c)  \\\n",
       "0   2018    강릉시    9167249   31244031   418154   40411280   31662185.0   \n",
       "1   2018    전주시   10495256   37292555   111949   47787810   37404503.5   \n",
       "2   2018    목포시    9248442   22355071    68942   31603513   22424013.0   \n",
       "3   2018  부산광역시   77002999  145717600  3910899  222720599  149628499.0   \n",
       "4   2018    안동시    6835122   18414046    56740   25249168   18470786.0   \n",
       "5   2019    강릉시   51030368   32137920   161141   83168288   32299061.0   \n",
       "6   2019    전주시   61336137   36765379   144686   98101516   36910065.0   \n",
       "7   2019    목포시   54444733   23609856    99406   78054588   23709261.0   \n",
       "8   2019  부산광역시  472292712  149672134  5284413  621964847  154956548.0   \n",
       "9   2019    안동시   41153724   18972849    75528   60126574   19048377.0   \n",
       "10  2020    강릉시   56888227   31213630    30641   88101856   31244271.0   \n",
       "11  2020    전주시   59348634   31472464    27739   90821098   31500203.0   \n",
       "12  2020    목포시   52771778   21274212    24089   74045990   21298301.0   \n",
       "13  2020  부산광역시  478526010  124725884   939414  603251894  125665298.0   \n",
       "14  2020    안동시   40787393   15894109     9918   56681502   15904027.0   \n",
       "\n",
       "    전체방문자(a+b+c)  \n",
       "0       40829434  \n",
       "1       47899759  \n",
       "2       31672455  \n",
       "3      226631499  \n",
       "4       25305908  \n",
       "5       83329429  \n",
       "6       98246202  \n",
       "7       78153994  \n",
       "8      627249260  \n",
       "9       60202102  \n",
       "10      88132497  \n",
       "11      90848837  \n",
       "12      74070080  \n",
       "13     604191308  \n",
       "14      56691421  "
      ]
     },
     "execution_count": 6,
     "metadata": {},
     "output_type": "execute_result"
    }
   ],
   "source": [
    "visitor"
   ]
  },
  {
   "cell_type": "code",
   "execution_count": 7,
   "id": "7d0583a3",
   "metadata": {
    "scrolled": true
   },
   "outputs": [
    {
     "data": {
      "text/html": [
       "<div>\n",
       "<style scoped>\n",
       "    .dataframe tbody tr th:only-of-type {\n",
       "        vertical-align: middle;\n",
       "    }\n",
       "\n",
       "    .dataframe tbody tr th {\n",
       "        vertical-align: top;\n",
       "    }\n",
       "\n",
       "    .dataframe thead tr th {\n",
       "        text-align: left;\n",
       "    }\n",
       "\n",
       "    .dataframe thead tr:last-of-type th {\n",
       "        text-align: right;\n",
       "    }\n",
       "</style>\n",
       "<table border=\"1\" class=\"dataframe\">\n",
       "  <thead>\n",
       "    <tr>\n",
       "      <th></th>\n",
       "      <th></th>\n",
       "      <th>sum</th>\n",
       "    </tr>\n",
       "    <tr>\n",
       "      <th></th>\n",
       "      <th></th>\n",
       "      <th>외부방문자(b+c)</th>\n",
       "    </tr>\n",
       "    <tr>\n",
       "      <th>년</th>\n",
       "      <th>기초지자체</th>\n",
       "      <th></th>\n",
       "    </tr>\n",
       "  </thead>\n",
       "  <tbody>\n",
       "    <tr>\n",
       "      <th rowspan=\"5\" valign=\"top\">2018</th>\n",
       "      <th>강릉시</th>\n",
       "      <td>31662185.0</td>\n",
       "    </tr>\n",
       "    <tr>\n",
       "      <th>목포시</th>\n",
       "      <td>22424013.0</td>\n",
       "    </tr>\n",
       "    <tr>\n",
       "      <th>부산광역시</th>\n",
       "      <td>149628499.0</td>\n",
       "    </tr>\n",
       "    <tr>\n",
       "      <th>안동시</th>\n",
       "      <td>18470786.0</td>\n",
       "    </tr>\n",
       "    <tr>\n",
       "      <th>전주시</th>\n",
       "      <td>37404503.5</td>\n",
       "    </tr>\n",
       "    <tr>\n",
       "      <th rowspan=\"5\" valign=\"top\">2019</th>\n",
       "      <th>강릉시</th>\n",
       "      <td>32299061.0</td>\n",
       "    </tr>\n",
       "    <tr>\n",
       "      <th>목포시</th>\n",
       "      <td>23709261.0</td>\n",
       "    </tr>\n",
       "    <tr>\n",
       "      <th>부산광역시</th>\n",
       "      <td>154956548.0</td>\n",
       "    </tr>\n",
       "    <tr>\n",
       "      <th>안동시</th>\n",
       "      <td>19048377.0</td>\n",
       "    </tr>\n",
       "    <tr>\n",
       "      <th>전주시</th>\n",
       "      <td>36910065.0</td>\n",
       "    </tr>\n",
       "    <tr>\n",
       "      <th rowspan=\"5\" valign=\"top\">2020</th>\n",
       "      <th>강릉시</th>\n",
       "      <td>31244271.0</td>\n",
       "    </tr>\n",
       "    <tr>\n",
       "      <th>목포시</th>\n",
       "      <td>21298301.0</td>\n",
       "    </tr>\n",
       "    <tr>\n",
       "      <th>부산광역시</th>\n",
       "      <td>125665298.0</td>\n",
       "    </tr>\n",
       "    <tr>\n",
       "      <th>안동시</th>\n",
       "      <td>15904027.0</td>\n",
       "    </tr>\n",
       "    <tr>\n",
       "      <th>전주시</th>\n",
       "      <td>31500203.0</td>\n",
       "    </tr>\n",
       "  </tbody>\n",
       "</table>\n",
       "</div>"
      ],
      "text/plain": [
       "                    sum\n",
       "             외부방문자(b+c)\n",
       "년    기초지자체             \n",
       "2018 강릉시     31662185.0\n",
       "     목포시     22424013.0\n",
       "     부산광역시  149628499.0\n",
       "     안동시     18470786.0\n",
       "     전주시     37404503.5\n",
       "2019 강릉시     32299061.0\n",
       "     목포시     23709261.0\n",
       "     부산광역시  154956548.0\n",
       "     안동시     19048377.0\n",
       "     전주시     36910065.0\n",
       "2020 강릉시     31244271.0\n",
       "     목포시     21298301.0\n",
       "     부산광역시  125665298.0\n",
       "     안동시     15904027.0\n",
       "     전주시     31500203.0"
      ]
     },
     "execution_count": 7,
     "metadata": {},
     "output_type": "execute_result"
    }
   ],
   "source": [
    "piv = visitor.pivot_table('외부방문자(b+c)',index = ['년','기초지자체'], aggfunc = ['sum'] )\n",
    "piv"
   ]
  },
  {
   "cell_type": "code",
   "execution_count": 8,
   "id": "68895885",
   "metadata": {},
   "outputs": [],
   "source": [
    "# 강릉 3년간 방문자\n",
    "kangnung = piv.xs('강릉시', level='기초지자체')"
   ]
  },
  {
   "cell_type": "code",
   "execution_count": 9,
   "id": "426f10a3",
   "metadata": {},
   "outputs": [
    {
     "data": {
      "text/html": [
       "<div>\n",
       "<style scoped>\n",
       "    .dataframe tbody tr th:only-of-type {\n",
       "        vertical-align: middle;\n",
       "    }\n",
       "\n",
       "    .dataframe tbody tr th {\n",
       "        vertical-align: top;\n",
       "    }\n",
       "\n",
       "    .dataframe thead tr th {\n",
       "        text-align: left;\n",
       "    }\n",
       "</style>\n",
       "<table border=\"1\" class=\"dataframe\">\n",
       "  <thead>\n",
       "    <tr>\n",
       "      <th></th>\n",
       "      <th>년</th>\n",
       "      <th>sum</th>\n",
       "    </tr>\n",
       "    <tr>\n",
       "      <th></th>\n",
       "      <th></th>\n",
       "      <th>외부방문자(b+c)</th>\n",
       "    </tr>\n",
       "  </thead>\n",
       "  <tbody>\n",
       "    <tr>\n",
       "      <th>0</th>\n",
       "      <td>2018</td>\n",
       "      <td>31662185.0</td>\n",
       "    </tr>\n",
       "    <tr>\n",
       "      <th>1</th>\n",
       "      <td>2019</td>\n",
       "      <td>32299061.0</td>\n",
       "    </tr>\n",
       "    <tr>\n",
       "      <th>2</th>\n",
       "      <td>2020</td>\n",
       "      <td>31244271.0</td>\n",
       "    </tr>\n",
       "  </tbody>\n",
       "</table>\n",
       "</div>"
      ],
      "text/plain": [
       "      년         sum\n",
       "         외부방문자(b+c)\n",
       "0  2018  31662185.0\n",
       "1  2019  32299061.0\n",
       "2  2020  31244271.0"
      ]
     },
     "execution_count": 9,
     "metadata": {},
     "output_type": "execute_result"
    }
   ],
   "source": [
    "#멀티인덱스 초기화\n",
    "kangnung.reset_index(drop = False, inplace = True)\n",
    "kangnung"
   ]
  },
  {
   "cell_type": "code",
   "execution_count": 31,
   "id": "8c4d086f",
   "metadata": {},
   "outputs": [
    {
     "data": {
      "text/plain": [
       "2.0114720446488406"
      ]
     },
     "execution_count": 31,
     "metadata": {},
     "output_type": "execute_result"
    }
   ],
   "source": [
    "(kangnung['sum','외부방문자(b+c)'][1]/kangnung['sum','외부방문자(b+c)'][0])*100 -100\n"
   ]
  },
  {
   "cell_type": "code",
   "execution_count": 14,
   "id": "9bde2a12",
   "metadata": {},
   "outputs": [
    {
     "data": {
      "text/plain": [
       "0    2018\n",
       "1    2019\n",
       "2    2020\n",
       "Name: 년, dtype: int64"
      ]
     },
     "execution_count": 14,
     "metadata": {},
     "output_type": "execute_result"
    },
    {
     "data": {
      "text/plain": [
       "0    31662185.0\n",
       "1    32299061.0\n",
       "2    31244271.0\n",
       "Name: (sum, 외부방문자(b+c)), dtype: float64"
      ]
     },
     "execution_count": 14,
     "metadata": {},
     "output_type": "execute_result"
    }
   ],
   "source": [
    "kangnung['년']\n",
    "kangnung['sum','외부방문자(b+c)']"
   ]
  },
  {
   "cell_type": "code",
   "execution_count": 32,
   "id": "3a47623b",
   "metadata": {},
   "outputs": [
    {
     "data": {
      "text/plain": [
       "[<matplotlib.lines.Line2D at 0x1ba1488cdf0>]"
      ]
     },
     "execution_count": 32,
     "metadata": {},
     "output_type": "execute_result"
    },
    {
     "data": {
      "text/plain": [
       "([<matplotlib.axis.XTick at 0x1ba148749d0>,\n",
       "  <matplotlib.axis.XTick at 0x1ba148749a0>,\n",
       "  <matplotlib.axis.XTick at 0x1ba14871520>],\n",
       " [Text(0, 0, ''), Text(0, 0, ''), Text(0, 0, '')])"
      ]
     },
     "execution_count": 32,
     "metadata": {},
     "output_type": "execute_result"
    },
    {
     "data": {
      "text/plain": [
       "(20000000.0, 33000000.0)"
      ]
     },
     "execution_count": 32,
     "metadata": {},
     "output_type": "execute_result"
    },
    {
     "data": {
      "image/png": "[encoded data removed]",
      "text/plain": [
       "<Figure size 432x288 with 1 Axes>"
      ]
     },
     "metadata": {
      "needs_background": "light"
     },
     "output_type": "display_data"
    }
   ],
   "source": [
    "plt.plot(kangnung['년'],kangnung['sum','외부방문자(b+c)'])\n",
    "plt.xticks(kangnung['년'])\n",
    "plt.ylim(20000000,33000000)\n",
    "plt.show()"
   ]
  },
  {
   "cell_type": "code",
   "execution_count": 17,
   "id": "b1a5f547",
   "metadata": {},
   "outputs": [],
   "source": [
    "# 목포 3년간 방문자\n",
    "mokpo = piv.xs('목포시', level='기초지자체')"
   ]
  },
  {
   "cell_type": "code",
   "execution_count": 18,
   "id": "6523dae2",
   "metadata": {
    "scrolled": true
   },
   "outputs": [
    {
     "data": {
      "text/html": [
       "<div>\n",
       "<style scoped>\n",
       "    .dataframe tbody tr th:only-of-type {\n",
       "        vertical-align: middle;\n",
       "    }\n",
       "\n",
       "    .dataframe tbody tr th {\n",
       "        vertical-align: top;\n",
       "    }\n",
       "\n",
       "    .dataframe thead tr th {\n",
       "        text-align: left;\n",
       "    }\n",
       "</style>\n",
       "<table border=\"1\" class=\"dataframe\">\n",
       "  <thead>\n",
       "    <tr>\n",
       "      <th></th>\n",
       "      <th>년</th>\n",
       "      <th>sum</th>\n",
       "    </tr>\n",
       "    <tr>\n",
       "      <th></th>\n",
       "      <th></th>\n",
       "      <th>외부방문자(b+c)</th>\n",
       "    </tr>\n",
       "  </thead>\n",
       "  <tbody>\n",
       "    <tr>\n",
       "      <th>0</th>\n",
       "      <td>2018</td>\n",
       "      <td>22424013.0</td>\n",
       "    </tr>\n",
       "    <tr>\n",
       "      <th>1</th>\n",
       "      <td>2019</td>\n",
       "      <td>23709261.0</td>\n",
       "    </tr>\n",
       "    <tr>\n",
       "      <th>2</th>\n",
       "      <td>2020</td>\n",
       "      <td>21298301.0</td>\n",
       "    </tr>\n",
       "  </tbody>\n",
       "</table>\n",
       "</div>"
      ],
      "text/plain": [
       "      년         sum\n",
       "         외부방문자(b+c)\n",
       "0  2018  22424013.0\n",
       "1  2019  23709261.0\n",
       "2  2020  21298301.0"
      ]
     },
     "execution_count": 18,
     "metadata": {},
     "output_type": "execute_result"
    }
   ],
   "source": [
    "#멀티인덱스 초기화\n",
    "mokpo.reset_index(drop = False, inplace = True)\n",
    "mokpo"
   ]
  },
  {
   "cell_type": "code",
   "execution_count": 19,
   "id": "edd12a91",
   "metadata": {},
   "outputs": [
    {
     "data": {
      "text/plain": [
       "5.73156999150865"
      ]
     },
     "execution_count": 19,
     "metadata": {},
     "output_type": "execute_result"
    }
   ],
   "source": [
    "(mokpo['sum','외부방문자(b+c)'][1]/mokpo['sum','외부방문자(b+c)'][0])*100 -100"
   ]
  },
  {
   "cell_type": "code",
   "execution_count": 253,
   "id": "7bdb5b92",
   "metadata": {
    "scrolled": true
   },
   "outputs": [
    {
     "data": {
      "text/plain": [
       "0    2018\n",
       "1    2019\n",
       "2    2020\n",
       "Name: 년, dtype: int64"
      ]
     },
     "execution_count": 253,
     "metadata": {},
     "output_type": "execute_result"
    },
    {
     "data": {
      "text/plain": [
       "0    22424013.0\n",
       "1    23709261.0\n",
       "2    21298301.0\n",
       "Name: (sum, 외부방문자(b+c)), dtype: float64"
      ]
     },
     "execution_count": 253,
     "metadata": {},
     "output_type": "execute_result"
    }
   ],
   "source": [
    "mokpo['년']\n",
    "mokpo['sum','외부방문자(b+c)']"
   ]
  },
  {
   "cell_type": "code",
   "execution_count": 33,
   "id": "06f7cd0a",
   "metadata": {},
   "outputs": [
    {
     "data": {
      "text/plain": [
       "[<matplotlib.lines.Line2D at 0x1ba1478f5b0>]"
      ]
     },
     "execution_count": 33,
     "metadata": {},
     "output_type": "execute_result"
    },
    {
     "data": {
      "text/plain": [
       "([<matplotlib.axis.XTick at 0x1ba147ed820>,\n",
       "  <matplotlib.axis.XTick at 0x1ba148bde20>,\n",
       "  <matplotlib.axis.XTick at 0x1ba148b69a0>],\n",
       " [Text(0, 0, ''), Text(0, 0, ''), Text(0, 0, '')])"
      ]
     },
     "execution_count": 33,
     "metadata": {},
     "output_type": "execute_result"
    },
    {
     "data": {
      "text/plain": [
       "(20000000.0, 33000000.0)"
      ]
     },
     "execution_count": 33,
     "metadata": {},
     "output_type": "execute_result"
    },
    {
     "data": {
      "image/png": "[encoded data removed]",
      "text/plain": [
       "<Figure size 432x288 with 1 Axes>"
      ]
     },
     "metadata": {
      "needs_background": "light"
     },
     "output_type": "display_data"
    }
   ],
   "source": [
    "plt.plot(mokpo['년'],mokpo['sum','외부방문자(b+c)'],color='red')\n",
    "plt.xticks(mokpo['년'])\n",
    "plt.ylim(20000000,33000000)\n",
    "plt.show()"
   ]
  },
  {
   "cell_type": "code",
   "execution_count": 20,
   "id": "2fbc72c7",
   "metadata": {},
   "outputs": [],
   "source": [
    "# 안동 3년간 방문자\n",
    "andong = piv.xs('안동시', level='기초지자체')"
   ]
  },
  {
   "cell_type": "code",
   "execution_count": 21,
   "id": "bf070762",
   "metadata": {
    "scrolled": true
   },
   "outputs": [
    {
     "data": {
      "text/html": [
       "<div>\n",
       "<style scoped>\n",
       "    .dataframe tbody tr th:only-of-type {\n",
       "        vertical-align: middle;\n",
       "    }\n",
       "\n",
       "    .dataframe tbody tr th {\n",
       "        vertical-align: top;\n",
       "    }\n",
       "\n",
       "    .dataframe thead tr th {\n",
       "        text-align: left;\n",
       "    }\n",
       "</style>\n",
       "<table border=\"1\" class=\"dataframe\">\n",
       "  <thead>\n",
       "    <tr>\n",
       "      <th></th>\n",
       "      <th>년</th>\n",
       "      <th>sum</th>\n",
       "    </tr>\n",
       "    <tr>\n",
       "      <th></th>\n",
       "      <th></th>\n",
       "      <th>외부방문자(b+c)</th>\n",
       "    </tr>\n",
       "  </thead>\n",
       "  <tbody>\n",
       "    <tr>\n",
       "      <th>0</th>\n",
       "      <td>2018</td>\n",
       "      <td>18470786.0</td>\n",
       "    </tr>\n",
       "    <tr>\n",
       "      <th>1</th>\n",
       "      <td>2019</td>\n",
       "      <td>19048377.0</td>\n",
       "    </tr>\n",
       "    <tr>\n",
       "      <th>2</th>\n",
       "      <td>2020</td>\n",
       "      <td>15904027.0</td>\n",
       "    </tr>\n",
       "  </tbody>\n",
       "</table>\n",
       "</div>"
      ],
      "text/plain": [
       "      년         sum\n",
       "         외부방문자(b+c)\n",
       "0  2018  18470786.0\n",
       "1  2019  19048377.0\n",
       "2  2020  15904027.0"
      ]
     },
     "execution_count": 21,
     "metadata": {},
     "output_type": "execute_result"
    }
   ],
   "source": [
    "#멀티인덱스 초기화\n",
    "andong.reset_index(drop = False, inplace = True)\n",
    "andong"
   ]
  },
  {
   "cell_type": "code",
   "execution_count": 22,
   "id": "72fb593c",
   "metadata": {},
   "outputs": [
    {
     "data": {
      "text/plain": [
       "3.1270515504862715"
      ]
     },
     "execution_count": 22,
     "metadata": {},
     "output_type": "execute_result"
    }
   ],
   "source": [
    "(andong['sum','외부방문자(b+c)'][1]/andong['sum','외부방문자(b+c)'][0])*100 -100"
   ]
  },
  {
   "cell_type": "code",
   "execution_count": 259,
   "id": "333b3ee9",
   "metadata": {},
   "outputs": [
    {
     "data": {
      "text/plain": [
       "0    2018\n",
       "1    2019\n",
       "2    2020\n",
       "Name: 년, dtype: int64"
      ]
     },
     "execution_count": 259,
     "metadata": {},
     "output_type": "execute_result"
    },
    {
     "data": {
      "text/plain": [
       "0    18470786.0\n",
       "1    19048377.0\n",
       "2    15904027.0\n",
       "Name: (sum, 외부방문자(b+c)), dtype: float64"
      ]
     },
     "execution_count": 259,
     "metadata": {},
     "output_type": "execute_result"
    }
   ],
   "source": [
    "andong['년']\n",
    "andong['sum','외부방문자(b+c)']"
   ]
  },
  {
   "cell_type": "code",
   "execution_count": 34,
   "id": "4ad18ca6",
   "metadata": {},
   "outputs": [
    {
     "data": {
      "text/plain": [
       "[<matplotlib.lines.Line2D at 0x1ba149250a0>]"
      ]
     },
     "execution_count": 34,
     "metadata": {},
     "output_type": "execute_result"
    },
    {
     "data": {
      "text/plain": [
       "([<matplotlib.axis.XTick at 0x1ba148fecd0>,\n",
       "  <matplotlib.axis.XTick at 0x1ba148feca0>,\n",
       "  <matplotlib.axis.XTick at 0x1ba148f9820>],\n",
       " [Text(0, 0, ''), Text(0, 0, ''), Text(0, 0, '')])"
      ]
     },
     "execution_count": 34,
     "metadata": {},
     "output_type": "execute_result"
    },
    {
     "data": {
      "text/plain": [
       "(13000000.0, 33000000.0)"
      ]
     },
     "execution_count": 34,
     "metadata": {},
     "output_type": "execute_result"
    },
    {
     "data": {
      "image/png": "[encoded data removed]",
      "text/plain": [
       "<Figure size 432x288 with 1 Axes>"
      ]
     },
     "metadata": {
      "needs_background": "light"
     },
     "output_type": "display_data"
    }
   ],
   "source": [
    "plt.plot(andong['년'],andong['sum','외부방문자(b+c)'],color='green')\n",
    "plt.xticks(andong['년'])\n",
    "plt.ylim(13000000,33000000)\n",
    "plt.show()"
   ]
  },
  {
   "cell_type": "code",
   "execution_count": 23,
   "id": "7e91934d",
   "metadata": {},
   "outputs": [],
   "source": [
    "# 전주 3년간 방문자\n",
    "jeonju = piv.xs('전주시', level='기초지자체')"
   ]
  },
  {
   "cell_type": "code",
   "execution_count": 24,
   "id": "63407978",
   "metadata": {
    "scrolled": true
   },
   "outputs": [
    {
     "data": {
      "text/html": [
       "<div>\n",
       "<style scoped>\n",
       "    .dataframe tbody tr th:only-of-type {\n",
       "        vertical-align: middle;\n",
       "    }\n",
       "\n",
       "    .dataframe tbody tr th {\n",
       "        vertical-align: top;\n",
       "    }\n",
       "\n",
       "    .dataframe thead tr th {\n",
       "        text-align: left;\n",
       "    }\n",
       "</style>\n",
       "<table border=\"1\" class=\"dataframe\">\n",
       "  <thead>\n",
       "    <tr>\n",
       "      <th></th>\n",
       "      <th>년</th>\n",
       "      <th>sum</th>\n",
       "    </tr>\n",
       "    <tr>\n",
       "      <th></th>\n",
       "      <th></th>\n",
       "      <th>외부방문자(b+c)</th>\n",
       "    </tr>\n",
       "  </thead>\n",
       "  <tbody>\n",
       "    <tr>\n",
       "      <th>0</th>\n",
       "      <td>2018</td>\n",
       "      <td>37404503.5</td>\n",
       "    </tr>\n",
       "    <tr>\n",
       "      <th>1</th>\n",
       "      <td>2019</td>\n",
       "      <td>36910065.0</td>\n",
       "    </tr>\n",
       "    <tr>\n",
       "      <th>2</th>\n",
       "      <td>2020</td>\n",
       "      <td>31500203.0</td>\n",
       "    </tr>\n",
       "  </tbody>\n",
       "</table>\n",
       "</div>"
      ],
      "text/plain": [
       "      년         sum\n",
       "         외부방문자(b+c)\n",
       "0  2018  37404503.5\n",
       "1  2019  36910065.0\n",
       "2  2020  31500203.0"
      ]
     },
     "execution_count": 24,
     "metadata": {},
     "output_type": "execute_result"
    }
   ],
   "source": [
    "#멀티인덱스 초기화\n",
    "jeonju.reset_index(drop = False, inplace = True)\n",
    "jeonju"
   ]
  },
  {
   "cell_type": "code",
   "execution_count": 25,
   "id": "d46319a1",
   "metadata": {},
   "outputs": [
    {
     "data": {
      "text/plain": [
       "-1.3218689027646064"
      ]
     },
     "execution_count": 25,
     "metadata": {},
     "output_type": "execute_result"
    }
   ],
   "source": [
    "(jeonju['sum','외부방문자(b+c)'][1]/jeonju['sum','외부방문자(b+c)'][0])*100 -100"
   ]
  },
  {
   "cell_type": "code",
   "execution_count": 268,
   "id": "d457e76a",
   "metadata": {},
   "outputs": [
    {
     "data": {
      "text/plain": [
       "0    2018\n",
       "1    2019\n",
       "2    2020\n",
       "Name: 년, dtype: int64"
      ]
     },
     "execution_count": 268,
     "metadata": {},
     "output_type": "execute_result"
    },
    {
     "data": {
      "text/plain": [
       "0    37404503.5\n",
       "1    36910065.0\n",
       "2    31500203.0\n",
       "Name: (sum, 외부방문자(b+c)), dtype: float64"
      ]
     },
     "execution_count": 268,
     "metadata": {},
     "output_type": "execute_result"
    }
   ],
   "source": [
    "jeonju['년']\n",
    "jeonju['sum','외부방문자(b+c)']"
   ]
  },
  {
   "cell_type": "code",
   "execution_count": 35,
   "id": "c3e39ea0",
   "metadata": {},
   "outputs": [
    {
     "data": {
      "text/plain": [
       "[<matplotlib.lines.Line2D at 0x1ba14970cd0>]"
      ]
     },
     "execution_count": 35,
     "metadata": {},
     "output_type": "execute_result"
    },
    {
     "data": {
      "text/plain": [
       "([<matplotlib.axis.XTick at 0x1ba149528b0>,\n",
       "  <matplotlib.axis.XTick at 0x1ba14952880>,\n",
       "  <matplotlib.axis.XTick at 0x1ba1494f370>],\n",
       " [Text(0, 0, ''), Text(0, 0, ''), Text(0, 0, '')])"
      ]
     },
     "execution_count": 35,
     "metadata": {},
     "output_type": "execute_result"
    },
    {
     "data": {
      "text/plain": [
       "(30000000.0, 43000000.0)"
      ]
     },
     "execution_count": 35,
     "metadata": {},
     "output_type": "execute_result"
    },
    {
     "data": {
      "image/png": "[encoded data removed]",
      "text/plain": [
       "<Figure size 432x288 with 1 Axes>"
      ]
     },
     "metadata": {
      "needs_background": "light"
     },
     "output_type": "display_data"
    }
   ],
   "source": [
    "plt.plot(jeonju['년'],jeonju['sum','외부방문자(b+c)'],color='yellow')\n",
    "plt.xticks(jeonju['년'])\n",
    "plt.ylim(30000000,43000000)\n",
    "plt.show()"
   ]
  },
  {
   "cell_type": "code",
   "execution_count": 26,
   "id": "4dba42cb",
   "metadata": {},
   "outputs": [],
   "source": [
    "# 부산 3년간 방문자\n",
    "busan = piv.xs('부산광역시', level='기초지자체')"
   ]
  },
  {
   "cell_type": "code",
   "execution_count": 27,
   "id": "f449e177",
   "metadata": {
    "scrolled": true
   },
   "outputs": [
    {
     "data": {
      "text/html": [
       "<div>\n",
       "<style scoped>\n",
       "    .dataframe tbody tr th:only-of-type {\n",
       "        vertical-align: middle;\n",
       "    }\n",
       "\n",
       "    .dataframe tbody tr th {\n",
       "        vertical-align: top;\n",
       "    }\n",
       "\n",
       "    .dataframe thead tr th {\n",
       "        text-align: left;\n",
       "    }\n",
       "</style>\n",
       "<table border=\"1\" class=\"dataframe\">\n",
       "  <thead>\n",
       "    <tr>\n",
       "      <th></th>\n",
       "      <th>년</th>\n",
       "      <th>sum</th>\n",
       "    </tr>\n",
       "    <tr>\n",
       "      <th></th>\n",
       "      <th></th>\n",
       "      <th>외부방문자(b+c)</th>\n",
       "    </tr>\n",
       "  </thead>\n",
       "  <tbody>\n",
       "    <tr>\n",
       "      <th>0</th>\n",
       "      <td>2018</td>\n",
       "      <td>149628499.0</td>\n",
       "    </tr>\n",
       "    <tr>\n",
       "      <th>1</th>\n",
       "      <td>2019</td>\n",
       "      <td>154956548.0</td>\n",
       "    </tr>\n",
       "    <tr>\n",
       "      <th>2</th>\n",
       "      <td>2020</td>\n",
       "      <td>125665298.0</td>\n",
       "    </tr>\n",
       "  </tbody>\n",
       "</table>\n",
       "</div>"
      ],
      "text/plain": [
       "      년          sum\n",
       "          외부방문자(b+c)\n",
       "0  2018  149628499.0\n",
       "1  2019  154956548.0\n",
       "2  2020  125665298.0"
      ]
     },
     "execution_count": 27,
     "metadata": {},
     "output_type": "execute_result"
    }
   ],
   "source": [
    "#멀티인덱스 초기화\n",
    "busan.reset_index(drop = False, inplace = True)\n",
    "busan"
   ]
  },
  {
   "cell_type": "code",
   "execution_count": 28,
   "id": "253b699d",
   "metadata": {},
   "outputs": [
    {
     "data": {
      "text/plain": [
       "3.56085173319822"
      ]
     },
     "execution_count": 28,
     "metadata": {},
     "output_type": "execute_result"
    }
   ],
   "source": [
    "(busan['sum','외부방문자(b+c)'][1]/busan['sum','외부방문자(b+c)'][0])*100 -100"
   ]
  },
  {
   "cell_type": "code",
   "execution_count": 273,
   "id": "869a4739",
   "metadata": {},
   "outputs": [
    {
     "data": {
      "text/plain": [
       "0    2018\n",
       "1    2019\n",
       "2    2020\n",
       "Name: 년, dtype: int64"
      ]
     },
     "execution_count": 273,
     "metadata": {},
     "output_type": "execute_result"
    },
    {
     "data": {
      "text/plain": [
       "0    149628499.0\n",
       "1    154956548.0\n",
       "2    125665298.0\n",
       "Name: (sum, 외부방문자(b+c)), dtype: float64"
      ]
     },
     "execution_count": 273,
     "metadata": {},
     "output_type": "execute_result"
    }
   ],
   "source": [
    "busan['년']\n",
    "busan['sum','외부방문자(b+c)']"
   ]
  },
  {
   "cell_type": "code",
   "execution_count": 37,
   "id": "4166b41c",
   "metadata": {
    "scrolled": true
   },
   "outputs": [
    {
     "data": {
      "text/plain": [
       "[<matplotlib.lines.Line2D at 0x1ba14a194c0>]"
      ]
     },
     "execution_count": 37,
     "metadata": {},
     "output_type": "execute_result"
    },
    {
     "data": {
      "text/plain": [
       "([<matplotlib.axis.XTick at 0x1ba149f2fd0>,\n",
       "  <matplotlib.axis.XTick at 0x1ba149f2fa0>,\n",
       "  <matplotlib.axis.XTick at 0x1ba149eeb20>],\n",
       " [Text(0, 0, ''), Text(0, 0, ''), Text(0, 0, '')])"
      ]
     },
     "execution_count": 37,
     "metadata": {},
     "output_type": "execute_result"
    },
    {
     "data": {
      "text/plain": [
       "(20000000.0, 160000000.0)"
      ]
     },
     "execution_count": 37,
     "metadata": {},
     "output_type": "execute_result"
    },
    {
     "data": {
      "image/png": "[encoded data removed]",
      "text/plain": [
       "<Figure size 432x288 with 1 Axes>"
      ]
     },
     "metadata": {
      "needs_background": "light"
     },
     "output_type": "display_data"
    }
   ],
   "source": [
    "plt.plot(busan['년'],busan['sum','외부방문자(b+c)'],color='black')\n",
    "plt.xticks(busan['년'])\n",
    "plt.ylim(20000000,160000000)\n",
    "plt.show()"
   ]
  },
  {
   "cell_type": "code",
   "execution_count": 284,
   "id": "ee3d2f7a",
   "metadata": {},
   "outputs": [
    {
     "data": {
      "text/plain": [
       "[<matplotlib.lines.Line2D at 0x1c7c7c8fe20>]"
      ]
     },
     "execution_count": 284,
     "metadata": {},
     "output_type": "execute_result"
    },
    {
     "data": {
      "text/plain": [
       "[<matplotlib.lines.Line2D at 0x1c7c7c9c250>]"
      ]
     },
     "execution_count": 284,
     "metadata": {},
     "output_type": "execute_result"
    },
    {
     "data": {
      "text/plain": [
       "[<matplotlib.lines.Line2D at 0x1c7c7c9c520>]"
      ]
     },
     "execution_count": 284,
     "metadata": {},
     "output_type": "execute_result"
    },
    {
     "data": {
      "text/plain": [
       "[<matplotlib.lines.Line2D at 0x1c7c7c9c7f0>]"
      ]
     },
     "execution_count": 284,
     "metadata": {},
     "output_type": "execute_result"
    },
    {
     "data": {
      "text/plain": [
       "[<matplotlib.lines.Line2D at 0x1c7c7c9cc70>]"
      ]
     },
     "execution_count": 284,
     "metadata": {},
     "output_type": "execute_result"
    },
    {
     "data": {
      "text/plain": [
       "<matplotlib.legend.Legend at 0x1c7c7c6c130>"
      ]
     },
     "execution_count": 284,
     "metadata": {},
     "output_type": "execute_result"
    },
    {
     "data": {
      "text/plain": [
       "([<matplotlib.axis.XTick at 0x1c7c7c6fac0>,\n",
       "  <matplotlib.axis.XTick at 0x1c7c7c6fa90>,\n",
       "  <matplotlib.axis.XTick at 0x1c7c7c6e5e0>],\n",
       " [Text(2018, 0, '2018'), Text(2019, 0, '2019'), Text(2020, 0, '2020')])"
      ]
     },
     "execution_count": 284,
     "metadata": {},
     "output_type": "execute_result"
    },
    {
     "data": {
      "text/plain": [
       "(13000000.0, 170000000.0)"
      ]
     },
     "execution_count": 284,
     "metadata": {},
     "output_type": "execute_result"
    },
    {
     "data": {
      "image/png": "[encoded data removed]",
      "text/plain": [
       "<Figure size 432x288 with 1 Axes>"
      ]
     },
     "metadata": {
      "needs_background": "light"
     },
     "output_type": "display_data"
    }
   ],
   "source": [
    "plt.plot(kangnung['년'],kangnung['sum','외부방문자(b+c)'],color = 'blue',label='강릉')\n",
    "plt.plot(mokpo['년'],mokpo['sum','외부방문자(b+c)'],color='red',label='목포')\n",
    "plt.plot(andong['년'],andong['sum','외부방문자(b+c)'],color='green',label='안동')\n",
    "plt.plot(jeonju['년'],jeonju['sum','외부방문자(b+c)'],color='yellow',label='전주')\n",
    "plt.plot(busan['년'],busan['sum','외부방문자(b+c)'],color='black',label='부산')\n",
    "plt.legend(loc='best', ncol=5)\n",
    "plt.xticks(x, kangnung['년'])\n",
    "plt.ylim(13000000,170000000)"
   ]
  }
 ],
 "metadata": {
  "kernelspec": {
   "display_name": "Python 3",
   "language": "python",
   "name": "python3"
  },
  "language_info": {
   "codemirror_mode": {
    "name": "ipython",
    "version": 3
   },
   "file_extension": ".py",
   "mimetype": "text/x-python",
   "name": "python",
   "nbconvert_exporter": "python",
   "pygments_lexer": "ipython3",
   "version": "3.8.8"
  }
 },
 "nbformat": 4,
 "nbformat_minor": 5
}
