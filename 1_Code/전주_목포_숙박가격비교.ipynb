{
 "cells": [
  {
   "cell_type": "code",
   "execution_count": 69,
   "id": "567c9021",
   "metadata": {},
   "outputs": [],
   "source": [
    "import requests\n",
    "\n",
    "from bs4 import BeautifulSoup\n",
    "from urllib.request import urlopen\n",
    "from selenium import webdriver\n",
    "import time\n",
    "from selenium.webdriver.common.keys import Keys\n",
    "from IPython.core.interactiveshell import InteractiveShell\n",
    "InteractiveShell.ast_node_interactivity=\"all\"\n",
    "import pandas as pd\n",
    "import numpy as np\n",
    "from tqdm import tqdm_notebook\n",
    "import matplotlib.pyplot as plt\n",
    "%matplotlib inline"
   ]
  },
  {
   "cell_type": "code",
   "execution_count": 32,
   "id": "3959a495",
   "metadata": {},
   "outputs": [
    {
     "name": "stderr",
     "output_type": "stream",
     "text": [
      "<ipython-input-32-011208076186>:5: DeprecationWarning: use options instead of chrome_options\n",
      "  driver = webdriver.Chrome(\"../WebCrawl/Driver/chromedriver\",chrome_options = options)\n"
     ]
    }
   ],
   "source": [
    "from selenium.webdriver.chrome.options import Options \n",
    "options = Options() \n",
    "options.binary_location= 'C:\\Program Files (x86)\\Google\\Chrome\\Application\\chrome.exe' \n",
    "\n",
    "driver = webdriver.Chrome(\"../WebCrawl/Driver/chromedriver\",chrome_options = options)\n",
    "driver.get(\"https://www.google.com/travel/hotels/%EC%A0%84%EC%A3%BC%EC%8B%9C\")\n"
   ]
  },
  {
   "cell_type": "code",
   "execution_count": 38,
   "id": "26aec487",
   "metadata": {
    "collapsed": true
   },
   "outputs": [
    {
     "name": "stderr",
     "output_type": "stream",
     "text": [
      "<ipython-input-38-c6bf50ebc12d>:4: TqdmDeprecationWarning: This function will be removed in tqdm==5.0.0\n",
      "Please use `tqdm.notebook.tqdm` instead of `tqdm.tqdm_notebook`\n",
      "  for _ in tqdm_notebook(range(45)):\n"
     ]
    },
    {
     "data": {
      "application/vnd.jupyter.widget-view+json": {
       "model_id": "cae04dce47e74d31a5cb6ff76396dc67",
       "version_major": 2,
       "version_minor": 0
      },
      "text/plain": [
       "  0%|          | 0/45 [00:00<?, ?it/s]"
      ]
     },
     "metadata": {},
     "output_type": "display_data"
    },
    {
     "ename": "NoSuchElementException",
     "evalue": "Message: no such element: Unable to locate element: {\"method\":\"xpath\",\"selector\":\"//*[@id=\"yDmH0d\"]/c-wiz[2]/div/div[2]/div/c-wiz/div/div[2]/div[1]/div/main/div/c-wiz/div[1]/div[8]/div[2]\"}\n  (Session info: chrome=92.0.4515.159)\n",
     "output_type": "error",
     "traceback": [
      "\u001b[1;31m---------------------------------------------------------------------------\u001b[0m",
      "\u001b[1;31mNoSuchElementException\u001b[0m                    Traceback (most recent call last)",
      "\u001b[1;32m<ipython-input-38-c6bf50ebc12d>\u001b[0m in \u001b[0;36m<module>\u001b[1;34m\u001b[0m\n\u001b[0;32m     16\u001b[0m             \u001b[1;32mpass\u001b[0m\u001b[1;33m\u001b[0m\u001b[1;33m\u001b[0m\u001b[0m\n\u001b[0;32m     17\u001b[0m     \u001b[0mtime\u001b[0m\u001b[1;33m.\u001b[0m\u001b[0msleep\u001b[0m\u001b[1;33m(\u001b[0m\u001b[1;36m5\u001b[0m\u001b[1;33m)\u001b[0m\u001b[1;33m\u001b[0m\u001b[1;33m\u001b[0m\u001b[0m\n\u001b[1;32m---> 18\u001b[1;33m     \u001b[0mdriver\u001b[0m\u001b[1;33m.\u001b[0m\u001b[0mfind_element_by_xpath\u001b[0m\u001b[1;33m(\u001b[0m\u001b[1;34m'//*[@id=\"yDmH0d\"]/c-wiz[2]/div/div[2]/div/c-wiz/div/div[2]/div[1]/div/main/div/c-wiz/div[1]/div[8]/div[2]'\u001b[0m\u001b[1;33m)\u001b[0m\u001b[1;33m.\u001b[0m\u001b[0mclick\u001b[0m\u001b[1;33m(\u001b[0m\u001b[1;33m)\u001b[0m\u001b[1;33m\u001b[0m\u001b[1;33m\u001b[0m\u001b[0m\n\u001b[0m\u001b[0;32m     19\u001b[0m \u001b[1;33m\u001b[0m\u001b[0m\n\u001b[0;32m     20\u001b[0m \u001b[0mprint\u001b[0m\u001b[1;33m(\u001b[0m\u001b[0mprice_list\u001b[0m\u001b[1;33m)\u001b[0m\u001b[1;33m\u001b[0m\u001b[1;33m\u001b[0m\u001b[0m\n",
      "\u001b[1;32mE:\\anaconda\\lib\\site-packages\\selenium\\webdriver\\remote\\webdriver.py\u001b[0m in \u001b[0;36mfind_element_by_xpath\u001b[1;34m(self, xpath)\u001b[0m\n\u001b[0;32m    392\u001b[0m             \u001b[0melement\u001b[0m \u001b[1;33m=\u001b[0m \u001b[0mdriver\u001b[0m\u001b[1;33m.\u001b[0m\u001b[0mfind_element_by_xpath\u001b[0m\u001b[1;33m(\u001b[0m\u001b[1;34m'//div/td[1]'\u001b[0m\u001b[1;33m)\u001b[0m\u001b[1;33m\u001b[0m\u001b[1;33m\u001b[0m\u001b[0m\n\u001b[0;32m    393\u001b[0m         \"\"\"\n\u001b[1;32m--> 394\u001b[1;33m         \u001b[1;32mreturn\u001b[0m \u001b[0mself\u001b[0m\u001b[1;33m.\u001b[0m\u001b[0mfind_element\u001b[0m\u001b[1;33m(\u001b[0m\u001b[0mby\u001b[0m\u001b[1;33m=\u001b[0m\u001b[0mBy\u001b[0m\u001b[1;33m.\u001b[0m\u001b[0mXPATH\u001b[0m\u001b[1;33m,\u001b[0m \u001b[0mvalue\u001b[0m\u001b[1;33m=\u001b[0m\u001b[0mxpath\u001b[0m\u001b[1;33m)\u001b[0m\u001b[1;33m\u001b[0m\u001b[1;33m\u001b[0m\u001b[0m\n\u001b[0m\u001b[0;32m    395\u001b[0m \u001b[1;33m\u001b[0m\u001b[0m\n\u001b[0;32m    396\u001b[0m     \u001b[1;32mdef\u001b[0m \u001b[0mfind_elements_by_xpath\u001b[0m\u001b[1;33m(\u001b[0m\u001b[0mself\u001b[0m\u001b[1;33m,\u001b[0m \u001b[0mxpath\u001b[0m\u001b[1;33m)\u001b[0m\u001b[1;33m:\u001b[0m\u001b[1;33m\u001b[0m\u001b[1;33m\u001b[0m\u001b[0m\n",
      "\u001b[1;32mE:\\anaconda\\lib\\site-packages\\selenium\\webdriver\\remote\\webdriver.py\u001b[0m in \u001b[0;36mfind_element\u001b[1;34m(self, by, value)\u001b[0m\n\u001b[0;32m    974\u001b[0m                 \u001b[0mby\u001b[0m \u001b[1;33m=\u001b[0m \u001b[0mBy\u001b[0m\u001b[1;33m.\u001b[0m\u001b[0mCSS_SELECTOR\u001b[0m\u001b[1;33m\u001b[0m\u001b[1;33m\u001b[0m\u001b[0m\n\u001b[0;32m    975\u001b[0m                 \u001b[0mvalue\u001b[0m \u001b[1;33m=\u001b[0m \u001b[1;34m'[name=\"%s\"]'\u001b[0m \u001b[1;33m%\u001b[0m \u001b[0mvalue\u001b[0m\u001b[1;33m\u001b[0m\u001b[1;33m\u001b[0m\u001b[0m\n\u001b[1;32m--> 976\u001b[1;33m         return self.execute(Command.FIND_ELEMENT, {\n\u001b[0m\u001b[0;32m    977\u001b[0m             \u001b[1;34m'using'\u001b[0m\u001b[1;33m:\u001b[0m \u001b[0mby\u001b[0m\u001b[1;33m,\u001b[0m\u001b[1;33m\u001b[0m\u001b[1;33m\u001b[0m\u001b[0m\n\u001b[0;32m    978\u001b[0m             'value': value})['value']\n",
      "\u001b[1;32mE:\\anaconda\\lib\\site-packages\\selenium\\webdriver\\remote\\webdriver.py\u001b[0m in \u001b[0;36mexecute\u001b[1;34m(self, driver_command, params)\u001b[0m\n\u001b[0;32m    319\u001b[0m         \u001b[0mresponse\u001b[0m \u001b[1;33m=\u001b[0m \u001b[0mself\u001b[0m\u001b[1;33m.\u001b[0m\u001b[0mcommand_executor\u001b[0m\u001b[1;33m.\u001b[0m\u001b[0mexecute\u001b[0m\u001b[1;33m(\u001b[0m\u001b[0mdriver_command\u001b[0m\u001b[1;33m,\u001b[0m \u001b[0mparams\u001b[0m\u001b[1;33m)\u001b[0m\u001b[1;33m\u001b[0m\u001b[1;33m\u001b[0m\u001b[0m\n\u001b[0;32m    320\u001b[0m         \u001b[1;32mif\u001b[0m \u001b[0mresponse\u001b[0m\u001b[1;33m:\u001b[0m\u001b[1;33m\u001b[0m\u001b[1;33m\u001b[0m\u001b[0m\n\u001b[1;32m--> 321\u001b[1;33m             \u001b[0mself\u001b[0m\u001b[1;33m.\u001b[0m\u001b[0merror_handler\u001b[0m\u001b[1;33m.\u001b[0m\u001b[0mcheck_response\u001b[0m\u001b[1;33m(\u001b[0m\u001b[0mresponse\u001b[0m\u001b[1;33m)\u001b[0m\u001b[1;33m\u001b[0m\u001b[1;33m\u001b[0m\u001b[0m\n\u001b[0m\u001b[0;32m    322\u001b[0m             response['value'] = self._unwrap_value(\n\u001b[0;32m    323\u001b[0m                 response.get('value', None))\n",
      "\u001b[1;32mE:\\anaconda\\lib\\site-packages\\selenium\\webdriver\\remote\\errorhandler.py\u001b[0m in \u001b[0;36mcheck_response\u001b[1;34m(self, response)\u001b[0m\n\u001b[0;32m    240\u001b[0m                 \u001b[0malert_text\u001b[0m \u001b[1;33m=\u001b[0m \u001b[0mvalue\u001b[0m\u001b[1;33m[\u001b[0m\u001b[1;34m'alert'\u001b[0m\u001b[1;33m]\u001b[0m\u001b[1;33m.\u001b[0m\u001b[0mget\u001b[0m\u001b[1;33m(\u001b[0m\u001b[1;34m'text'\u001b[0m\u001b[1;33m)\u001b[0m\u001b[1;33m\u001b[0m\u001b[1;33m\u001b[0m\u001b[0m\n\u001b[0;32m    241\u001b[0m             \u001b[1;32mraise\u001b[0m \u001b[0mexception_class\u001b[0m\u001b[1;33m(\u001b[0m\u001b[0mmessage\u001b[0m\u001b[1;33m,\u001b[0m \u001b[0mscreen\u001b[0m\u001b[1;33m,\u001b[0m \u001b[0mstacktrace\u001b[0m\u001b[1;33m,\u001b[0m \u001b[0malert_text\u001b[0m\u001b[1;33m)\u001b[0m\u001b[1;33m\u001b[0m\u001b[1;33m\u001b[0m\u001b[0m\n\u001b[1;32m--> 242\u001b[1;33m         \u001b[1;32mraise\u001b[0m \u001b[0mexception_class\u001b[0m\u001b[1;33m(\u001b[0m\u001b[0mmessage\u001b[0m\u001b[1;33m,\u001b[0m \u001b[0mscreen\u001b[0m\u001b[1;33m,\u001b[0m \u001b[0mstacktrace\u001b[0m\u001b[1;33m)\u001b[0m\u001b[1;33m\u001b[0m\u001b[1;33m\u001b[0m\u001b[0m\n\u001b[0m\u001b[0;32m    243\u001b[0m \u001b[1;33m\u001b[0m\u001b[0m\n\u001b[0;32m    244\u001b[0m     \u001b[1;32mdef\u001b[0m \u001b[0m_value_or_default\u001b[0m\u001b[1;33m(\u001b[0m\u001b[0mself\u001b[0m\u001b[1;33m,\u001b[0m \u001b[0mobj\u001b[0m\u001b[1;33m,\u001b[0m \u001b[0mkey\u001b[0m\u001b[1;33m,\u001b[0m \u001b[0mdefault\u001b[0m\u001b[1;33m)\u001b[0m\u001b[1;33m:\u001b[0m\u001b[1;33m\u001b[0m\u001b[1;33m\u001b[0m\u001b[0m\n",
      "\u001b[1;31mNoSuchElementException\u001b[0m: Message: no such element: Unable to locate element: {\"method\":\"xpath\",\"selector\":\"//*[@id=\"yDmH0d\"]/c-wiz[2]/div/div[2]/div/c-wiz/div/div[2]/div[1]/div/main/div/c-wiz/div[1]/div[8]/div[2]\"}\n  (Session info: chrome=92.0.4515.159)\n"
     ]
    }
   ],
   "source": [
    "# whole_page = driver.page_source\n",
    "# soup = BeautifulSoup(whole_page,'html.parser')\n",
    "price_list = []\n",
    "for _ in tqdm_notebook(range(45)):\n",
    "    time.sleep(3)\n",
    "    whole_page = driver.page_source\n",
    "    soup = BeautifulSoup(whole_page,'html.parser')\n",
    "    item_box = soup.find('div',{'class':'l5cSPd'}).find_all('div',{'class':'pjDrrc'})\n",
    "    time.sleep(3)\n",
    "    for item in item_box:\n",
    "        \n",
    "        try:\n",
    "            price = int(item.find('a',{'class':'OxGZuc W8vlAc lRagtb'})['aria-label'].split(' ')[1].replace('₩','').replace(',',''))\n",
    "            price_list.append(price)\n",
    "        except:\n",
    "            pass\n",
    "    time.sleep(5)\n",
    "    driver.find_element_by_xpath('//*[@id=\"yDmH0d\"]/c-wiz[2]/div/div[2]/div/c-wiz/div/div[2]/div[1]/div/main/div/c-wiz/div[1]/div[8]/div[2]').click()\n",
    "\n",
    "print(price_list)\n",
    "\n",
    "\n"
   ]
  },
  {
   "cell_type": "code",
   "execution_count": 55,
   "id": "7da5f868",
   "metadata": {},
   "outputs": [
    {
     "data": {
      "text/html": [
       "<div>\n",
       "<style scoped>\n",
       "    .dataframe tbody tr th:only-of-type {\n",
       "        vertical-align: middle;\n",
       "    }\n",
       "\n",
       "    .dataframe tbody tr th {\n",
       "        vertical-align: top;\n",
       "    }\n",
       "\n",
       "    .dataframe thead th {\n",
       "        text-align: right;\n",
       "    }\n",
       "</style>\n",
       "<table border=\"1\" class=\"dataframe\">\n",
       "  <thead>\n",
       "    <tr style=\"text-align: right;\">\n",
       "      <th></th>\n",
       "      <th>가격</th>\n",
       "    </tr>\n",
       "  </thead>\n",
       "  <tbody>\n",
       "    <tr>\n",
       "      <th>0</th>\n",
       "      <td>59847</td>\n",
       "    </tr>\n",
       "    <tr>\n",
       "      <th>1</th>\n",
       "      <td>55800</td>\n",
       "    </tr>\n",
       "    <tr>\n",
       "      <th>2</th>\n",
       "      <td>29000</td>\n",
       "    </tr>\n",
       "    <tr>\n",
       "      <th>3</th>\n",
       "      <td>50739</td>\n",
       "    </tr>\n",
       "    <tr>\n",
       "      <th>4</th>\n",
       "      <td>59999</td>\n",
       "    </tr>\n",
       "    <tr>\n",
       "      <th>...</th>\n",
       "      <td>...</td>\n",
       "    </tr>\n",
       "    <tr>\n",
       "      <th>264</th>\n",
       "      <td>44000</td>\n",
       "    </tr>\n",
       "    <tr>\n",
       "      <th>265</th>\n",
       "      <td>46305</td>\n",
       "    </tr>\n",
       "    <tr>\n",
       "      <th>266</th>\n",
       "      <td>36015</td>\n",
       "    </tr>\n",
       "    <tr>\n",
       "      <th>267</th>\n",
       "      <td>34505</td>\n",
       "    </tr>\n",
       "    <tr>\n",
       "      <th>268</th>\n",
       "      <td>59999</td>\n",
       "    </tr>\n",
       "  </tbody>\n",
       "</table>\n",
       "<p>269 rows × 1 columns</p>\n",
       "</div>"
      ],
      "text/plain": [
       "        가격\n",
       "0    59847\n",
       "1    55800\n",
       "2    29000\n",
       "3    50739\n",
       "4    59999\n",
       "..     ...\n",
       "264  44000\n",
       "265  46305\n",
       "266  36015\n",
       "267  34505\n",
       "268  59999\n",
       "\n",
       "[269 rows x 1 columns]"
      ]
     },
     "execution_count": 55,
     "metadata": {},
     "output_type": "execute_result"
    }
   ],
   "source": [
    "price_dict = {'가격':price_list}\n",
    "df_junju = pd.DataFrame(price_dict)\n",
    "df_junju"
   ]
  },
  {
   "cell_type": "code",
   "execution_count": 45,
   "id": "1605528d",
   "metadata": {},
   "outputs": [
    {
     "name": "stderr",
     "output_type": "stream",
     "text": [
      "<ipython-input-45-aea95185132a>:5: DeprecationWarning: use options instead of chrome_options\n",
      "  driver = webdriver.Chrome(\"../WebCrawl/Driver/chromedriver\",chrome_options = options)\n"
     ]
    }
   ],
   "source": [
    "from selenium.webdriver.chrome.options import Options \n",
    "options = Options() \n",
    "options.binary_location= 'C:\\Program Files (x86)\\Google\\Chrome\\Application\\chrome.exe' \n",
    "\n",
    "driver = webdriver.Chrome(\"../WebCrawl/Driver/chromedriver\",chrome_options = options)\n",
    "driver.get('https://www.google.com/travel/hotels/%EB%AA%A9%ED%8F%AC%EC%8B%9C')"
   ]
  },
  {
   "cell_type": "code",
   "execution_count": 53,
   "id": "9ca19772",
   "metadata": {
    "scrolled": true
   },
   "outputs": [
    {
     "name": "stderr",
     "output_type": "stream",
     "text": [
      "<ipython-input-53-f66cc4569145>:2: TqdmDeprecationWarning: This function will be removed in tqdm==5.0.0\n",
      "Please use `tqdm.notebook.tqdm` instead of `tqdm.tqdm_notebook`\n",
      "  for _ in tqdm_notebook(range(12)):\n"
     ]
    },
    {
     "data": {
      "application/vnd.jupyter.widget-view+json": {
       "model_id": "5680488f6c5d48edbc23984e0311c78c",
       "version_major": 2,
       "version_minor": 0
      },
      "text/plain": [
       "  0%|          | 0/12 [00:00<?, ?it/s]"
      ]
     },
     "metadata": {},
     "output_type": "display_data"
    },
    {
     "ename": "NoSuchElementException",
     "evalue": "Message: no such element: Unable to locate element: {\"method\":\"xpath\",\"selector\":\"//*[@id=\"yDmH0d\"]/c-wiz[2]/div/div[2]/div/c-wiz/div/div[2]/div[1]/div/main/div/c-wiz/div[1]/div[8]/div[2]\"}\n  (Session info: chrome=92.0.4515.159)\n",
     "output_type": "error",
     "traceback": [
      "\u001b[1;31m---------------------------------------------------------------------------\u001b[0m",
      "\u001b[1;31mNoSuchElementException\u001b[0m                    Traceback (most recent call last)",
      "\u001b[1;32m<ipython-input-53-f66cc4569145>\u001b[0m in \u001b[0;36m<module>\u001b[1;34m\u001b[0m\n\u001b[0;32m     14\u001b[0m             \u001b[1;32mpass\u001b[0m\u001b[1;33m\u001b[0m\u001b[1;33m\u001b[0m\u001b[0m\n\u001b[0;32m     15\u001b[0m     \u001b[0mtime\u001b[0m\u001b[1;33m.\u001b[0m\u001b[0msleep\u001b[0m\u001b[1;33m(\u001b[0m\u001b[1;36m5\u001b[0m\u001b[1;33m)\u001b[0m\u001b[1;33m\u001b[0m\u001b[1;33m\u001b[0m\u001b[0m\n\u001b[1;32m---> 16\u001b[1;33m     \u001b[0mdriver\u001b[0m\u001b[1;33m.\u001b[0m\u001b[0mfind_element_by_xpath\u001b[0m\u001b[1;33m(\u001b[0m\u001b[1;34m'//*[@id=\"yDmH0d\"]/c-wiz[2]/div/div[2]/div/c-wiz/div/div[2]/div[1]/div/main/div/c-wiz/div[1]/div[8]/div[2]'\u001b[0m\u001b[1;33m)\u001b[0m\u001b[1;33m.\u001b[0m\u001b[0mclick\u001b[0m\u001b[1;33m(\u001b[0m\u001b[1;33m)\u001b[0m\u001b[1;33m\u001b[0m\u001b[1;33m\u001b[0m\u001b[0m\n\u001b[0m\u001b[0;32m     17\u001b[0m \u001b[1;33m\u001b[0m\u001b[0m\n",
      "\u001b[1;32mE:\\anaconda\\lib\\site-packages\\selenium\\webdriver\\remote\\webdriver.py\u001b[0m in \u001b[0;36mfind_element_by_xpath\u001b[1;34m(self, xpath)\u001b[0m\n\u001b[0;32m    392\u001b[0m             \u001b[0melement\u001b[0m \u001b[1;33m=\u001b[0m \u001b[0mdriver\u001b[0m\u001b[1;33m.\u001b[0m\u001b[0mfind_element_by_xpath\u001b[0m\u001b[1;33m(\u001b[0m\u001b[1;34m'//div/td[1]'\u001b[0m\u001b[1;33m)\u001b[0m\u001b[1;33m\u001b[0m\u001b[1;33m\u001b[0m\u001b[0m\n\u001b[0;32m    393\u001b[0m         \"\"\"\n\u001b[1;32m--> 394\u001b[1;33m         \u001b[1;32mreturn\u001b[0m \u001b[0mself\u001b[0m\u001b[1;33m.\u001b[0m\u001b[0mfind_element\u001b[0m\u001b[1;33m(\u001b[0m\u001b[0mby\u001b[0m\u001b[1;33m=\u001b[0m\u001b[0mBy\u001b[0m\u001b[1;33m.\u001b[0m\u001b[0mXPATH\u001b[0m\u001b[1;33m,\u001b[0m \u001b[0mvalue\u001b[0m\u001b[1;33m=\u001b[0m\u001b[0mxpath\u001b[0m\u001b[1;33m)\u001b[0m\u001b[1;33m\u001b[0m\u001b[1;33m\u001b[0m\u001b[0m\n\u001b[0m\u001b[0;32m    395\u001b[0m \u001b[1;33m\u001b[0m\u001b[0m\n\u001b[0;32m    396\u001b[0m     \u001b[1;32mdef\u001b[0m \u001b[0mfind_elements_by_xpath\u001b[0m\u001b[1;33m(\u001b[0m\u001b[0mself\u001b[0m\u001b[1;33m,\u001b[0m \u001b[0mxpath\u001b[0m\u001b[1;33m)\u001b[0m\u001b[1;33m:\u001b[0m\u001b[1;33m\u001b[0m\u001b[1;33m\u001b[0m\u001b[0m\n",
      "\u001b[1;32mE:\\anaconda\\lib\\site-packages\\selenium\\webdriver\\remote\\webdriver.py\u001b[0m in \u001b[0;36mfind_element\u001b[1;34m(self, by, value)\u001b[0m\n\u001b[0;32m    974\u001b[0m                 \u001b[0mby\u001b[0m \u001b[1;33m=\u001b[0m \u001b[0mBy\u001b[0m\u001b[1;33m.\u001b[0m\u001b[0mCSS_SELECTOR\u001b[0m\u001b[1;33m\u001b[0m\u001b[1;33m\u001b[0m\u001b[0m\n\u001b[0;32m    975\u001b[0m                 \u001b[0mvalue\u001b[0m \u001b[1;33m=\u001b[0m \u001b[1;34m'[name=\"%s\"]'\u001b[0m \u001b[1;33m%\u001b[0m \u001b[0mvalue\u001b[0m\u001b[1;33m\u001b[0m\u001b[1;33m\u001b[0m\u001b[0m\n\u001b[1;32m--> 976\u001b[1;33m         return self.execute(Command.FIND_ELEMENT, {\n\u001b[0m\u001b[0;32m    977\u001b[0m             \u001b[1;34m'using'\u001b[0m\u001b[1;33m:\u001b[0m \u001b[0mby\u001b[0m\u001b[1;33m,\u001b[0m\u001b[1;33m\u001b[0m\u001b[1;33m\u001b[0m\u001b[0m\n\u001b[0;32m    978\u001b[0m             'value': value})['value']\n",
      "\u001b[1;32mE:\\anaconda\\lib\\site-packages\\selenium\\webdriver\\remote\\webdriver.py\u001b[0m in \u001b[0;36mexecute\u001b[1;34m(self, driver_command, params)\u001b[0m\n\u001b[0;32m    319\u001b[0m         \u001b[0mresponse\u001b[0m \u001b[1;33m=\u001b[0m \u001b[0mself\u001b[0m\u001b[1;33m.\u001b[0m\u001b[0mcommand_executor\u001b[0m\u001b[1;33m.\u001b[0m\u001b[0mexecute\u001b[0m\u001b[1;33m(\u001b[0m\u001b[0mdriver_command\u001b[0m\u001b[1;33m,\u001b[0m \u001b[0mparams\u001b[0m\u001b[1;33m)\u001b[0m\u001b[1;33m\u001b[0m\u001b[1;33m\u001b[0m\u001b[0m\n\u001b[0;32m    320\u001b[0m         \u001b[1;32mif\u001b[0m \u001b[0mresponse\u001b[0m\u001b[1;33m:\u001b[0m\u001b[1;33m\u001b[0m\u001b[1;33m\u001b[0m\u001b[0m\n\u001b[1;32m--> 321\u001b[1;33m             \u001b[0mself\u001b[0m\u001b[1;33m.\u001b[0m\u001b[0merror_handler\u001b[0m\u001b[1;33m.\u001b[0m\u001b[0mcheck_response\u001b[0m\u001b[1;33m(\u001b[0m\u001b[0mresponse\u001b[0m\u001b[1;33m)\u001b[0m\u001b[1;33m\u001b[0m\u001b[1;33m\u001b[0m\u001b[0m\n\u001b[0m\u001b[0;32m    322\u001b[0m             response['value'] = self._unwrap_value(\n\u001b[0;32m    323\u001b[0m                 response.get('value', None))\n",
      "\u001b[1;32mE:\\anaconda\\lib\\site-packages\\selenium\\webdriver\\remote\\errorhandler.py\u001b[0m in \u001b[0;36mcheck_response\u001b[1;34m(self, response)\u001b[0m\n\u001b[0;32m    240\u001b[0m                 \u001b[0malert_text\u001b[0m \u001b[1;33m=\u001b[0m \u001b[0mvalue\u001b[0m\u001b[1;33m[\u001b[0m\u001b[1;34m'alert'\u001b[0m\u001b[1;33m]\u001b[0m\u001b[1;33m.\u001b[0m\u001b[0mget\u001b[0m\u001b[1;33m(\u001b[0m\u001b[1;34m'text'\u001b[0m\u001b[1;33m)\u001b[0m\u001b[1;33m\u001b[0m\u001b[1;33m\u001b[0m\u001b[0m\n\u001b[0;32m    241\u001b[0m             \u001b[1;32mraise\u001b[0m \u001b[0mexception_class\u001b[0m\u001b[1;33m(\u001b[0m\u001b[0mmessage\u001b[0m\u001b[1;33m,\u001b[0m \u001b[0mscreen\u001b[0m\u001b[1;33m,\u001b[0m \u001b[0mstacktrace\u001b[0m\u001b[1;33m,\u001b[0m \u001b[0malert_text\u001b[0m\u001b[1;33m)\u001b[0m\u001b[1;33m\u001b[0m\u001b[1;33m\u001b[0m\u001b[0m\n\u001b[1;32m--> 242\u001b[1;33m         \u001b[1;32mraise\u001b[0m \u001b[0mexception_class\u001b[0m\u001b[1;33m(\u001b[0m\u001b[0mmessage\u001b[0m\u001b[1;33m,\u001b[0m \u001b[0mscreen\u001b[0m\u001b[1;33m,\u001b[0m \u001b[0mstacktrace\u001b[0m\u001b[1;33m)\u001b[0m\u001b[1;33m\u001b[0m\u001b[1;33m\u001b[0m\u001b[0m\n\u001b[0m\u001b[0;32m    243\u001b[0m \u001b[1;33m\u001b[0m\u001b[0m\n\u001b[0;32m    244\u001b[0m     \u001b[1;32mdef\u001b[0m \u001b[0m_value_or_default\u001b[0m\u001b[1;33m(\u001b[0m\u001b[0mself\u001b[0m\u001b[1;33m,\u001b[0m \u001b[0mobj\u001b[0m\u001b[1;33m,\u001b[0m \u001b[0mkey\u001b[0m\u001b[1;33m,\u001b[0m \u001b[0mdefault\u001b[0m\u001b[1;33m)\u001b[0m\u001b[1;33m:\u001b[0m\u001b[1;33m\u001b[0m\u001b[1;33m\u001b[0m\u001b[0m\n",
      "\u001b[1;31mNoSuchElementException\u001b[0m: Message: no such element: Unable to locate element: {\"method\":\"xpath\",\"selector\":\"//*[@id=\"yDmH0d\"]/c-wiz[2]/div/div[2]/div/c-wiz/div/div[2]/div[1]/div/main/div/c-wiz/div[1]/div[8]/div[2]\"}\n  (Session info: chrome=92.0.4515.159)\n"
     ]
    }
   ],
   "source": [
    "price_list1 = []\n",
    "for _ in tqdm_notebook(range(12)):\n",
    "    time.sleep(3)\n",
    "    whole_page = driver.page_source\n",
    "    soup = BeautifulSoup(whole_page,'html.parser')\n",
    "    item_box = soup.find('div',{'class':'l5cSPd'}).find_all('div',{'class':'pjDrrc'})\n",
    "    time.sleep(3)\n",
    "    for item in item_box:\n",
    "        \n",
    "        try:\n",
    "            price = int(item.find('a',{'class':'OxGZuc W8vlAc lRagtb'})['aria-label'].split(' ')[1].replace('₩','').replace(',',''))\n",
    "            price_list1.append(price)\n",
    "        except:\n",
    "            pass\n",
    "    time.sleep(5)\n",
    "    driver.find_element_by_xpath('//*[@id=\"yDmH0d\"]/c-wiz[2]/div/div[2]/div/c-wiz/div/div[2]/div[1]/div/main/div/c-wiz/div[1]/div[8]/div[2]').click()\n",
    "\n"
   ]
  },
  {
   "cell_type": "code",
   "execution_count": 54,
   "id": "9501d0be",
   "metadata": {},
   "outputs": [
    {
     "data": {
      "text/html": [
       "<div>\n",
       "<style scoped>\n",
       "    .dataframe tbody tr th:only-of-type {\n",
       "        vertical-align: middle;\n",
       "    }\n",
       "\n",
       "    .dataframe tbody tr th {\n",
       "        vertical-align: top;\n",
       "    }\n",
       "\n",
       "    .dataframe thead th {\n",
       "        text-align: right;\n",
       "    }\n",
       "</style>\n",
       "<table border=\"1\" class=\"dataframe\">\n",
       "  <thead>\n",
       "    <tr style=\"text-align: right;\">\n",
       "      <th></th>\n",
       "      <th>가격</th>\n",
       "    </tr>\n",
       "  </thead>\n",
       "  <tbody>\n",
       "    <tr>\n",
       "      <th>0</th>\n",
       "      <td>90000</td>\n",
       "    </tr>\n",
       "    <tr>\n",
       "      <th>1</th>\n",
       "      <td>35000</td>\n",
       "    </tr>\n",
       "    <tr>\n",
       "      <th>2</th>\n",
       "      <td>79362</td>\n",
       "    </tr>\n",
       "    <tr>\n",
       "      <th>3</th>\n",
       "      <td>30001</td>\n",
       "    </tr>\n",
       "    <tr>\n",
       "      <th>4</th>\n",
       "      <td>36015</td>\n",
       "    </tr>\n",
       "    <tr>\n",
       "      <th>...</th>\n",
       "      <td>...</td>\n",
       "    </tr>\n",
       "    <tr>\n",
       "      <th>59</th>\n",
       "      <td>51450</td>\n",
       "    </tr>\n",
       "    <tr>\n",
       "      <th>60</th>\n",
       "      <td>36015</td>\n",
       "    </tr>\n",
       "    <tr>\n",
       "      <th>61</th>\n",
       "      <td>34505</td>\n",
       "    </tr>\n",
       "    <tr>\n",
       "      <th>62</th>\n",
       "      <td>49086</td>\n",
       "    </tr>\n",
       "    <tr>\n",
       "      <th>63</th>\n",
       "      <td>59999</td>\n",
       "    </tr>\n",
       "  </tbody>\n",
       "</table>\n",
       "<p>64 rows × 1 columns</p>\n",
       "</div>"
      ],
      "text/plain": [
       "       가격\n",
       "0   90000\n",
       "1   35000\n",
       "2   79362\n",
       "3   30001\n",
       "4   36015\n",
       "..    ...\n",
       "59  51450\n",
       "60  36015\n",
       "61  34505\n",
       "62  49086\n",
       "63  59999\n",
       "\n",
       "[64 rows x 1 columns]"
      ]
     },
     "execution_count": 54,
     "metadata": {},
     "output_type": "execute_result"
    }
   ],
   "source": [
    "price_dict1 = {'가격':price_list1}\n",
    "df_mokpo = pd.DataFrame(price_dict1)\n",
    "df_mokpo"
   ]
  },
  {
   "cell_type": "code",
   "execution_count": 59,
   "id": "8bf61e07",
   "metadata": {},
   "outputs": [
    {
     "data": {
      "text/plain": [
       "260000"
      ]
     },
     "execution_count": 59,
     "metadata": {},
     "output_type": "execute_result"
    }
   ],
   "source": [
    "df_mokpo.가격.max()"
   ]
  },
  {
   "cell_type": "code",
   "execution_count": 58,
   "id": "3cc3ca15",
   "metadata": {},
   "outputs": [
    {
     "data": {
      "text/plain": [
       "array([151, 108,   4,   2,   0,   3,   0,   0,   0,   1], dtype=int64)"
      ]
     },
     "execution_count": 58,
     "metadata": {},
     "output_type": "execute_result"
    }
   ],
   "source": [
    "jun_pr = np.array(df_junju.가격)\n",
    "freq1,_= np.histogram(jun_pr, bins=10, range=(0,500000))\n",
    "freq1"
   ]
  },
  {
   "cell_type": "code",
   "execution_count": 61,
   "id": "5914d388",
   "metadata": {},
   "outputs": [
    {
     "data": {
      "text/plain": [
       "array([38, 22,  0,  2,  0,  2,  0,  0,  0,  0], dtype=int64)"
      ]
     },
     "execution_count": 61,
     "metadata": {},
     "output_type": "execute_result"
    }
   ],
   "source": [
    "mok_pr = np.array(df_mokpo.가격)\n",
    "freq2,_= np.histogram(mok_pr, bins=10, range=(0,500000))\n",
    "freq2"
   ]
  },
  {
   "cell_type": "code",
   "execution_count": 62,
   "id": "3c2d7252",
   "metadata": {},
   "outputs": [
    {
     "data": {
      "text/plain": [
       "['0~50000',\n",
       " '50000~100000',\n",
       " '100000~150000',\n",
       " '150000~200000',\n",
       " '200000~250000',\n",
       " '250000~300000',\n",
       " '300000~350000',\n",
       " '350000~400000',\n",
       " '400000~450000',\n",
       " '450000~500000']"
      ]
     },
     "execution_count": 62,
     "metadata": {},
     "output_type": "execute_result"
    }
   ],
   "source": [
    "freq_class = [f'{i}~{i+50000}' for i in range(0,500000,50000)]\n",
    "freq_class"
   ]
  },
  {
   "cell_type": "code",
   "execution_count": 63,
   "id": "41964909",
   "metadata": {},
   "outputs": [],
   "source": [
    "rel_Mokpo_Price = freq2/freq2.sum()*100\n",
    "rel_Junju_Price = freq1/freq1.sum()*100"
   ]
  },
  {
   "cell_type": "code",
   "execution_count": 65,
   "id": "4d09a03f",
   "metadata": {},
   "outputs": [
    {
     "data": {
      "text/html": [
       "<div>\n",
       "<style scoped>\n",
       "    .dataframe tbody tr th:only-of-type {\n",
       "        vertical-align: middle;\n",
       "    }\n",
       "\n",
       "    .dataframe tbody tr th {\n",
       "        vertical-align: top;\n",
       "    }\n",
       "\n",
       "    .dataframe thead th {\n",
       "        text-align: right;\n",
       "    }\n",
       "</style>\n",
       "<table border=\"1\" class=\"dataframe\">\n",
       "  <thead>\n",
       "    <tr style=\"text-align: right;\">\n",
       "      <th></th>\n",
       "      <th>frequency</th>\n",
       "      <th>relative frequency</th>\n",
       "    </tr>\n",
       "    <tr>\n",
       "      <th>class</th>\n",
       "      <th></th>\n",
       "      <th></th>\n",
       "    </tr>\n",
       "  </thead>\n",
       "  <tbody>\n",
       "    <tr>\n",
       "      <th>0~50000</th>\n",
       "      <td>38</td>\n",
       "      <td>59.375</td>\n",
       "    </tr>\n",
       "    <tr>\n",
       "      <th>50000~100000</th>\n",
       "      <td>22</td>\n",
       "      <td>34.375</td>\n",
       "    </tr>\n",
       "    <tr>\n",
       "      <th>100000~150000</th>\n",
       "      <td>0</td>\n",
       "      <td>0.000</td>\n",
       "    </tr>\n",
       "    <tr>\n",
       "      <th>150000~200000</th>\n",
       "      <td>2</td>\n",
       "      <td>3.125</td>\n",
       "    </tr>\n",
       "    <tr>\n",
       "      <th>200000~250000</th>\n",
       "      <td>0</td>\n",
       "      <td>0.000</td>\n",
       "    </tr>\n",
       "    <tr>\n",
       "      <th>250000~300000</th>\n",
       "      <td>2</td>\n",
       "      <td>3.125</td>\n",
       "    </tr>\n",
       "    <tr>\n",
       "      <th>300000~350000</th>\n",
       "      <td>0</td>\n",
       "      <td>0.000</td>\n",
       "    </tr>\n",
       "    <tr>\n",
       "      <th>350000~400000</th>\n",
       "      <td>0</td>\n",
       "      <td>0.000</td>\n",
       "    </tr>\n",
       "    <tr>\n",
       "      <th>400000~450000</th>\n",
       "      <td>0</td>\n",
       "      <td>0.000</td>\n",
       "    </tr>\n",
       "    <tr>\n",
       "      <th>450000~500000</th>\n",
       "      <td>0</td>\n",
       "      <td>0.000</td>\n",
       "    </tr>\n",
       "  </tbody>\n",
       "</table>\n",
       "</div>"
      ],
      "text/plain": [
       "               frequency  relative frequency\n",
       "class                                       \n",
       "0~50000               38              59.375\n",
       "50000~100000          22              34.375\n",
       "100000~150000          0               0.000\n",
       "150000~200000          2               3.125\n",
       "200000~250000          0               0.000\n",
       "250000~300000          2               3.125\n",
       "300000~350000          0               0.000\n",
       "350000~400000          0               0.000\n",
       "400000~450000          0               0.000\n",
       "450000~500000          0               0.000"
      ]
     },
     "execution_count": 65,
     "metadata": {},
     "output_type": "execute_result"
    }
   ],
   "source": [
    "Mokpo_Price = pd.DataFrame({'frequency' : freq2 },\n",
    "                            index = pd.Index(freq_class,name = 'class'))\n",
    "Mokpo_Price['relative frequency'] = rel_Mokpo_Price\n",
    "Mokpo_Price"
   ]
  },
  {
   "cell_type": "code",
   "execution_count": 66,
   "id": "93e6872e",
   "metadata": {},
   "outputs": [
    {
     "data": {
      "text/html": [
       "<div>\n",
       "<style scoped>\n",
       "    .dataframe tbody tr th:only-of-type {\n",
       "        vertical-align: middle;\n",
       "    }\n",
       "\n",
       "    .dataframe tbody tr th {\n",
       "        vertical-align: top;\n",
       "    }\n",
       "\n",
       "    .dataframe thead th {\n",
       "        text-align: right;\n",
       "    }\n",
       "</style>\n",
       "<table border=\"1\" class=\"dataframe\">\n",
       "  <thead>\n",
       "    <tr style=\"text-align: right;\">\n",
       "      <th></th>\n",
       "      <th>frequency</th>\n",
       "      <th>relative frequency</th>\n",
       "    </tr>\n",
       "    <tr>\n",
       "      <th>class</th>\n",
       "      <th></th>\n",
       "      <th></th>\n",
       "    </tr>\n",
       "  </thead>\n",
       "  <tbody>\n",
       "    <tr>\n",
       "      <th>0~50000</th>\n",
       "      <td>151</td>\n",
       "      <td>56.133829</td>\n",
       "    </tr>\n",
       "    <tr>\n",
       "      <th>50000~100000</th>\n",
       "      <td>108</td>\n",
       "      <td>40.148699</td>\n",
       "    </tr>\n",
       "    <tr>\n",
       "      <th>100000~150000</th>\n",
       "      <td>4</td>\n",
       "      <td>1.486989</td>\n",
       "    </tr>\n",
       "    <tr>\n",
       "      <th>150000~200000</th>\n",
       "      <td>2</td>\n",
       "      <td>0.743494</td>\n",
       "    </tr>\n",
       "    <tr>\n",
       "      <th>200000~250000</th>\n",
       "      <td>0</td>\n",
       "      <td>0.000000</td>\n",
       "    </tr>\n",
       "    <tr>\n",
       "      <th>250000~300000</th>\n",
       "      <td>3</td>\n",
       "      <td>1.115242</td>\n",
       "    </tr>\n",
       "    <tr>\n",
       "      <th>300000~350000</th>\n",
       "      <td>0</td>\n",
       "      <td>0.000000</td>\n",
       "    </tr>\n",
       "    <tr>\n",
       "      <th>350000~400000</th>\n",
       "      <td>0</td>\n",
       "      <td>0.000000</td>\n",
       "    </tr>\n",
       "    <tr>\n",
       "      <th>400000~450000</th>\n",
       "      <td>0</td>\n",
       "      <td>0.000000</td>\n",
       "    </tr>\n",
       "    <tr>\n",
       "      <th>450000~500000</th>\n",
       "      <td>1</td>\n",
       "      <td>0.371747</td>\n",
       "    </tr>\n",
       "  </tbody>\n",
       "</table>\n",
       "</div>"
      ],
      "text/plain": [
       "               frequency  relative frequency\n",
       "class                                       \n",
       "0~50000              151           56.133829\n",
       "50000~100000         108           40.148699\n",
       "100000~150000          4            1.486989\n",
       "150000~200000          2            0.743494\n",
       "200000~250000          0            0.000000\n",
       "250000~300000          3            1.115242\n",
       "300000~350000          0            0.000000\n",
       "350000~400000          0            0.000000\n",
       "400000~450000          0            0.000000\n",
       "450000~500000          1            0.371747"
      ]
     },
     "execution_count": 66,
     "metadata": {},
     "output_type": "execute_result"
    }
   ],
   "source": [
    "Junju_Price = pd.DataFrame({'frequency' : freq1 },\n",
    "                            index = pd.Index(freq_class,name = 'class'))\n",
    "Junju_Price['relative frequency'] = rel_Junju_Price\n",
    "Junju_Price"
   ]
  },
  {
   "cell_type": "code",
   "execution_count": 76,
   "id": "f2774c0a",
   "metadata": {
    "scrolled": false
   },
   "outputs": [
    {
     "data": {
      "text/plain": [
       "Text(0.5, 0, 'price')"
      ]
     },
     "execution_count": 76,
     "metadata": {},
     "output_type": "execute_result"
    },
    {
     "data": {
      "text/plain": [
       "[<matplotlib.axis.XTick at 0x219d32e2a30>,\n",
       " <matplotlib.axis.XTick at 0x219d32e2d00>,\n",
       " <matplotlib.axis.XTick at 0x219d3b4b730>,\n",
       " <matplotlib.axis.XTick at 0x219d437af40>,\n",
       " <matplotlib.axis.XTick at 0x219d435f490>]"
      ]
     },
     "execution_count": 76,
     "metadata": {},
     "output_type": "execute_result"
    },
    {
     "name": "stderr",
     "output_type": "stream",
     "text": [
      "<ipython-input-76-8af12e0b52b5>:6: MatplotlibDeprecationWarning: Passing the minor parameter of set_ticks() positionally is deprecated since Matplotlib 3.2; the parameter will become keyword-only two minor releases later.\n",
      "  ax.set_yticks(np.arange(0,freq1.max()+1),10)\n"
     ]
    },
    {
     "data": {
      "text/plain": [
       "[<matplotlib.axis.YTick at 0x219d3b40f10>,\n",
       " <matplotlib.axis.YTick at 0x219d32ecd30>,\n",
       " <matplotlib.axis.YTick at 0x219d435fc40>,\n",
       " <matplotlib.axis.YTick at 0x219d436f190>,\n",
       " <matplotlib.axis.YTick at 0x219d436f6a0>,\n",
       " <matplotlib.axis.YTick at 0x219d436fbb0>,\n",
       " <matplotlib.axis.YTick at 0x219d4357100>,\n",
       " <matplotlib.axis.YTick at 0x219d4357610>,\n",
       " <matplotlib.axis.YTick at 0x219d4357910>,\n",
       " <matplotlib.axis.YTick at 0x219d4357ee0>,\n",
       " <matplotlib.axis.YTick at 0x219d4357250>,\n",
       " <matplotlib.axis.YTick at 0x219d436f2e0>,\n",
       " <matplotlib.axis.YTick at 0x219d43610d0>,\n",
       " <matplotlib.axis.YTick at 0x219d43615e0>,\n",
       " <matplotlib.axis.YTick at 0x219d4361af0>,\n",
       " <matplotlib.axis.YTick at 0x219d4353040>,\n",
       " <matplotlib.axis.YTick at 0x219d4353550>,\n",
       " <matplotlib.axis.YTick at 0x219d4353a60>,\n",
       " <matplotlib.axis.YTick at 0x219d4353f70>,\n",
       " <matplotlib.axis.YTick at 0x219d43535e0>,\n",
       " <matplotlib.axis.YTick at 0x219d4361670>,\n",
       " <matplotlib.axis.YTick at 0x219d4357160>,\n",
       " <matplotlib.axis.YTick at 0x219d436e5e0>,\n",
       " <matplotlib.axis.YTick at 0x219d436eaf0>,\n",
       " <matplotlib.axis.YTick at 0x219d434b040>,\n",
       " <matplotlib.axis.YTick at 0x219d434b550>,\n",
       " <matplotlib.axis.YTick at 0x219d434ba60>,\n",
       " <matplotlib.axis.YTick at 0x219d434bf70>,\n",
       " <matplotlib.axis.YTick at 0x219d404fd30>,\n",
       " <matplotlib.axis.YTick at 0x219d434b1c0>,\n",
       " <matplotlib.axis.YTick at 0x219d436e100>,\n",
       " <matplotlib.axis.YTick at 0x219d404ff70>,\n",
       " <matplotlib.axis.YTick at 0x219d404f6a0>,\n",
       " <matplotlib.axis.YTick at 0x219d404f190>,\n",
       " <matplotlib.axis.YTick at 0x219d4043430>,\n",
       " <matplotlib.axis.YTick at 0x219d4043940>,\n",
       " <matplotlib.axis.YTick at 0x219d4043e50>,\n",
       " <matplotlib.axis.YTick at 0x219d40443a0>,\n",
       " <matplotlib.axis.YTick at 0x219d4043610>,\n",
       " <matplotlib.axis.YTick at 0x219d404fa30>,\n",
       " <matplotlib.axis.YTick at 0x219d434bbb0>,\n",
       " <matplotlib.axis.YTick at 0x219d4044940>,\n",
       " <matplotlib.axis.YTick at 0x219d4044e50>,\n",
       " <matplotlib.axis.YTick at 0x219d40523a0>,\n",
       " <matplotlib.axis.YTick at 0x219d40528b0>,\n",
       " <matplotlib.axis.YTick at 0x219d4052dc0>,\n",
       " <matplotlib.axis.YTick at 0x219d4059310>,\n",
       " <matplotlib.axis.YTick at 0x219d4059820>,\n",
       " <matplotlib.axis.YTick at 0x219d4052400>,\n",
       " <matplotlib.axis.YTick at 0x219d434baf0>,\n",
       " <matplotlib.axis.YTick at 0x219d4059430>,\n",
       " <matplotlib.axis.YTick at 0x219d4059d30>,\n",
       " <matplotlib.axis.YTick at 0x219d405d280>,\n",
       " <matplotlib.axis.YTick at 0x219d405d790>,\n",
       " <matplotlib.axis.YTick at 0x219d405dca0>,\n",
       " <matplotlib.axis.YTick at 0x219d406d1f0>,\n",
       " <matplotlib.axis.YTick at 0x219d406d700>,\n",
       " <matplotlib.axis.YTick at 0x219d405d820>,\n",
       " <matplotlib.axis.YTick at 0x219d40593a0>,\n",
       " <matplotlib.axis.YTick at 0x219d406da30>,\n",
       " <matplotlib.axis.YTick at 0x219d406dca0>,\n",
       " <matplotlib.axis.YTick at 0x219d40731f0>,\n",
       " <matplotlib.axis.YTick at 0x219d4073700>,\n",
       " <matplotlib.axis.YTick at 0x219d4073c10>,\n",
       " <matplotlib.axis.YTick at 0x219d4067160>,\n",
       " <matplotlib.axis.YTick at 0x219d4067670>,\n",
       " <matplotlib.axis.YTick at 0x219d4067b80>,\n",
       " <matplotlib.axis.YTick at 0x219d4073280>,\n",
       " <matplotlib.axis.YTick at 0x219d4043130>,\n",
       " <matplotlib.axis.YTick at 0x219d40673a0>,\n",
       " <matplotlib.axis.YTick at 0x219d43970d0>,\n",
       " <matplotlib.axis.YTick at 0x219d43975e0>,\n",
       " <matplotlib.axis.YTick at 0x219d4397af0>,\n",
       " <matplotlib.axis.YTick at 0x219d43b0040>,\n",
       " <matplotlib.axis.YTick at 0x219d43b0550>,\n",
       " <matplotlib.axis.YTick at 0x219d43b0a60>,\n",
       " <matplotlib.axis.YTick at 0x219d4397670>,\n",
       " <matplotlib.axis.YTick at 0x219d4073e20>,\n",
       " <matplotlib.axis.YTick at 0x219d405de20>,\n",
       " <matplotlib.axis.YTick at 0x219d4361040>,\n",
       " <matplotlib.axis.YTick at 0x219d43b06a0>,\n",
       " <matplotlib.axis.YTick at 0x219d43ba0d0>,\n",
       " <matplotlib.axis.YTick at 0x219d43ba5e0>,\n",
       " <matplotlib.axis.YTick at 0x219d43baaf0>,\n",
       " <matplotlib.axis.YTick at 0x219d43b5040>,\n",
       " <matplotlib.axis.YTick at 0x219d43b5550>,\n",
       " <matplotlib.axis.YTick at 0x219d43ba1f0>,\n",
       " <matplotlib.axis.YTick at 0x219d4044580>,\n",
       " <matplotlib.axis.YTick at 0x219d43b5610>,\n",
       " <matplotlib.axis.YTick at 0x219d43b5a60>,\n",
       " <matplotlib.axis.YTick at 0x219d43b5f70>,\n",
       " <matplotlib.axis.YTick at 0x219d43a44c0>,\n",
       " <matplotlib.axis.YTick at 0x219d43a49d0>,\n",
       " <matplotlib.axis.YTick at 0x219d43a4ee0>,\n",
       " <matplotlib.axis.YTick at 0x219d4394430>,\n",
       " <matplotlib.axis.YTick at 0x219d43a4a90>,\n",
       " <matplotlib.axis.YTick at 0x219d43b5b20>,\n",
       " <matplotlib.axis.YTick at 0x219d43ba130>,\n",
       " <matplotlib.axis.YTick at 0x219d4394a60>,\n",
       " <matplotlib.axis.YTick at 0x219d4394f70>,\n",
       " <matplotlib.axis.YTick at 0x219d43894c0>,\n",
       " <matplotlib.axis.YTick at 0x219d43899d0>,\n",
       " <matplotlib.axis.YTick at 0x219d4389ee0>,\n",
       " <matplotlib.axis.YTick at 0x219d43b2430>,\n",
       " <matplotlib.axis.YTick at 0x219d4389a90>,\n",
       " <matplotlib.axis.YTick at 0x219d4394af0>,\n",
       " <matplotlib.axis.YTick at 0x219d43a45e0>,\n",
       " <matplotlib.axis.YTick at 0x219d43b2af0>,\n",
       " <matplotlib.axis.YTick at 0x219d4392040>,\n",
       " <matplotlib.axis.YTick at 0x219d4392550>,\n",
       " <matplotlib.axis.YTick at 0x219d4392a60>,\n",
       " <matplotlib.axis.YTick at 0x219d4392f70>,\n",
       " <matplotlib.axis.YTick at 0x219d3f07c70>,\n",
       " <matplotlib.axis.YTick at 0x219d4392760>,\n",
       " <matplotlib.axis.YTick at 0x219d43b2100>,\n",
       " <matplotlib.axis.YTick at 0x219d3f07850>,\n",
       " <matplotlib.axis.YTick at 0x219d3f07490>,\n",
       " <matplotlib.axis.YTick at 0x219d3f060d0>,\n",
       " <matplotlib.axis.YTick at 0x219d3f065e0>,\n",
       " <matplotlib.axis.YTick at 0x219d3f06af0>,\n",
       " <matplotlib.axis.YTick at 0x219d3f0b040>,\n",
       " <matplotlib.axis.YTick at 0x219d3f0b550>,\n",
       " <matplotlib.axis.YTick at 0x219d3f06820>,\n",
       " <matplotlib.axis.YTick at 0x219d3f07520>,\n",
       " <matplotlib.axis.YTick at 0x219d3f0b970>,\n",
       " <matplotlib.axis.YTick at 0x219d3f0bc10>,\n",
       " <matplotlib.axis.YTick at 0x219d3f29160>,\n",
       " <matplotlib.axis.YTick at 0x219d3f29670>,\n",
       " <matplotlib.axis.YTick at 0x219d3f29b80>,\n",
       " <matplotlib.axis.YTick at 0x219d3f170d0>,\n",
       " <matplotlib.axis.YTick at 0x219d3f175e0>,\n",
       " <matplotlib.axis.YTick at 0x219d3f298b0>,\n",
       " <matplotlib.axis.YTick at 0x219d3f0b0a0>,\n",
       " <matplotlib.axis.YTick at 0x219d3f17a00>,\n",
       " <matplotlib.axis.YTick at 0x219d3f17ca0>,\n",
       " <matplotlib.axis.YTick at 0x219d3f231f0>,\n",
       " <matplotlib.axis.YTick at 0x219d3f23700>,\n",
       " <matplotlib.axis.YTick at 0x219d3f23c10>,\n",
       " <matplotlib.axis.YTick at 0x219d3f2a160>,\n",
       " <matplotlib.axis.YTick at 0x219d3f2a670>,\n",
       " <matplotlib.axis.YTick at 0x219d3f23940>,\n",
       " <matplotlib.axis.YTick at 0x219d3f17130>,\n",
       " <matplotlib.axis.YTick at 0x219d3f2aa90>,\n",
       " <matplotlib.axis.YTick at 0x219d3f2ad30>,\n",
       " <matplotlib.axis.YTick at 0x219d3f34280>,\n",
       " <matplotlib.axis.YTick at 0x219d3f34790>,\n",
       " <matplotlib.axis.YTick at 0x219d3f34ca0>,\n",
       " <matplotlib.axis.YTick at 0x219d3f3a1f0>,\n",
       " <matplotlib.axis.YTick at 0x219d3f3a700>,\n",
       " <matplotlib.axis.YTick at 0x219d3f349d0>,\n",
       " <matplotlib.axis.YTick at 0x219d3f2a1c0>,\n",
       " <matplotlib.axis.YTick at 0x219d3f3ab20>]"
      ]
     },
     "execution_count": 76,
     "metadata": {},
     "output_type": "execute_result"
    },
    {
     "data": {
      "image/png": "[encoded data removed]",
      "text/plain": [
       "<Figure size 1080x720 with 1 Axes>"
      ]
     },
     "metadata": {
      "needs_background": "light"
     },
     "output_type": "display_data"
    }
   ],
   "source": [
    "fig = plt.figure(figsize = (15,10))\n",
    "ax = fig.add_subplot(111)\n",
    "freq,_,_=ax.hist(mok_pr,bins=4,range=(0,200000))\n",
    "ax.set_xlabel('price')\n",
    "ax.set_xticks(np.linspace(0,200000,4+1))\n",
    "ax.set_yticks(np.arange(0,freq1.max()+1),10)\n",
    "plt.show()"
   ]
  },
  {
   "cell_type": "code",
   "execution_count": 75,
   "id": "f9352be6",
   "metadata": {
    "scrolled": false
   },
   "outputs": [
    {
     "data": {
      "text/plain": [
       "Text(0.5, 0, 'price')"
      ]
     },
     "execution_count": 75,
     "metadata": {},
     "output_type": "execute_result"
    },
    {
     "data": {
      "text/plain": [
       "[<matplotlib.axis.XTick at 0x219d39c4880>,\n",
       " <matplotlib.axis.XTick at 0x219d39c4220>,\n",
       " <matplotlib.axis.XTick at 0x219d2975bb0>,\n",
       " <matplotlib.axis.XTick at 0x219d3adf7c0>,\n",
       " <matplotlib.axis.XTick at 0x219d346d3d0>]"
      ]
     },
     "execution_count": 75,
     "metadata": {},
     "output_type": "execute_result"
    },
    {
     "name": "stderr",
     "output_type": "stream",
     "text": [
      "<ipython-input-75-2254cc8bcbef>:6: MatplotlibDeprecationWarning: Passing the minor parameter of set_ticks() positionally is deprecated since Matplotlib 3.2; the parameter will become keyword-only two minor releases later.\n",
      "  ax.set_yticks(np.arange(0,freq1.max()+1),10)\n"
     ]
    },
    {
     "data": {
      "text/plain": [
       "[<matplotlib.axis.YTick at 0x219d3adc880>,\n",
       " <matplotlib.axis.YTick at 0x219d39d8d30>,\n",
       " <matplotlib.axis.YTick at 0x219d344d5b0>,\n",
       " <matplotlib.axis.YTick at 0x219d3ffcbe0>,\n",
       " <matplotlib.axis.YTick at 0x219d347ee80>,\n",
       " <matplotlib.axis.YTick at 0x219d346f760>,\n",
       " <matplotlib.axis.YTick at 0x219d466cbe0>,\n",
       " <matplotlib.axis.YTick at 0x219d3456df0>,\n",
       " <matplotlib.axis.YTick at 0x219d3d06790>,\n",
       " <matplotlib.axis.YTick at 0x219d346fa90>,\n",
       " <matplotlib.axis.YTick at 0x219d344d9a0>,\n",
       " <matplotlib.axis.YTick at 0x219d3d06c40>,\n",
       " <matplotlib.axis.YTick at 0x219d3d06670>,\n",
       " <matplotlib.axis.YTick at 0x219d28f7a00>,\n",
       " <matplotlib.axis.YTick at 0x219d3d36b20>,\n",
       " <matplotlib.axis.YTick at 0x219d3fd08b0>,\n",
       " <matplotlib.axis.YTick at 0x219d29651c0>,\n",
       " <matplotlib.axis.YTick at 0x219d3440580>,\n",
       " <matplotlib.axis.YTick at 0x219d360d310>,\n",
       " <matplotlib.axis.YTick at 0x219d3d06820>,\n",
       " <matplotlib.axis.YTick at 0x219d4661c10>,\n",
       " <matplotlib.axis.YTick at 0x219d3440ac0>,\n",
       " <matplotlib.axis.YTick at 0x219d4666250>,\n",
       " <matplotlib.axis.YTick at 0x219d345fdc0>,\n",
       " <matplotlib.axis.YTick at 0x219d345f790>,\n",
       " <matplotlib.axis.YTick at 0x219d34795e0>,\n",
       " <matplotlib.axis.YTick at 0x219d3479250>,\n",
       " <matplotlib.axis.YTick at 0x219d3fcc220>,\n",
       " <matplotlib.axis.YTick at 0x219d345f7f0>,\n",
       " <matplotlib.axis.YTick at 0x219d3440b50>,\n",
       " <matplotlib.axis.YTick at 0x219d3fd2e80>,\n",
       " <matplotlib.axis.YTick at 0x219d3fccbe0>,\n",
       " <matplotlib.axis.YTick at 0x219d3468670>,\n",
       " <matplotlib.axis.YTick at 0x219d3468100>,\n",
       " <matplotlib.axis.YTick at 0x219d34bf670>,\n",
       " <matplotlib.axis.YTick at 0x219d348a310>,\n",
       " <matplotlib.axis.YTick at 0x219d348ab20>,\n",
       " <matplotlib.axis.YTick at 0x219d348aca0>,\n",
       " <matplotlib.axis.YTick at 0x219d3fcce80>,\n",
       " <matplotlib.axis.YTick at 0x219d345f340>,\n",
       " <matplotlib.axis.YTick at 0x219d3492fa0>,\n",
       " <matplotlib.axis.YTick at 0x219d348c880>,\n",
       " <matplotlib.axis.YTick at 0x219d41810a0>,\n",
       " <matplotlib.axis.YTick at 0x219d41b62b0>,\n",
       " <matplotlib.axis.YTick at 0x219d41b67c0>,\n",
       " <matplotlib.axis.YTick at 0x219d4192d30>,\n",
       " <matplotlib.axis.YTick at 0x219d41b8040>,\n",
       " <matplotlib.axis.YTick at 0x219d4181550>,\n",
       " <matplotlib.axis.YTick at 0x219d345faf0>,\n",
       " <matplotlib.axis.YTick at 0x219d41b8550>,\n",
       " <matplotlib.axis.YTick at 0x219d41a6940>,\n",
       " <matplotlib.axis.YTick at 0x219d41b3490>,\n",
       " <matplotlib.axis.YTick at 0x219d3ad1a90>,\n",
       " <matplotlib.axis.YTick at 0x219d4948580>,\n",
       " <matplotlib.axis.YTick at 0x219d4972130>,\n",
       " <matplotlib.axis.YTick at 0x219d3a71160>,\n",
       " <matplotlib.axis.YTick at 0x219d4948070>,\n",
       " <matplotlib.axis.YTick at 0x219d41a6fd0>,\n",
       " <matplotlib.axis.YTick at 0x219d348cfd0>,\n",
       " <matplotlib.axis.YTick at 0x219d494e400>,\n",
       " <matplotlib.axis.YTick at 0x219d4968a60>,\n",
       " <matplotlib.axis.YTick at 0x219d4967280>,\n",
       " <matplotlib.axis.YTick at 0x219d49678e0>,\n",
       " <matplotlib.axis.YTick at 0x219d496cc40>,\n",
       " <matplotlib.axis.YTick at 0x219d2f4dca0>,\n",
       " <matplotlib.axis.YTick at 0x219d2f4d130>,\n",
       " <matplotlib.axis.YTick at 0x219d49675b0>,\n",
       " <matplotlib.axis.YTick at 0x219d348cfa0>,\n",
       " <matplotlib.axis.YTick at 0x219d2f4d0d0>,\n",
       " <matplotlib.axis.YTick at 0x219d49463d0>,\n",
       " <matplotlib.axis.YTick at 0x219d4946b50>,\n",
       " <matplotlib.axis.YTick at 0x219d2f78220>,\n",
       " <matplotlib.axis.YTick at 0x219d2f78bb0>,\n",
       " <matplotlib.axis.YTick at 0x219d496ad00>,\n",
       " <matplotlib.axis.YTick at 0x219d2f5e130>,\n",
       " <matplotlib.axis.YTick at 0x219d2f78e50>,\n",
       " <matplotlib.axis.YTick at 0x219d4946700>,\n",
       " <matplotlib.axis.YTick at 0x219d2f4ddf0>,\n",
       " <matplotlib.axis.YTick at 0x219d349c9a0>,\n",
       " <matplotlib.axis.YTick at 0x219d3adfb50>,\n",
       " <matplotlib.axis.YTick at 0x219d2f619a0>,\n",
       " <matplotlib.axis.YTick at 0x219d2f67ee0>,\n",
       " <matplotlib.axis.YTick at 0x219d418f340>,\n",
       " <matplotlib.axis.YTick at 0x219d2f79820>,\n",
       " <matplotlib.axis.YTick at 0x219d2f79df0>,\n",
       " <matplotlib.axis.YTick at 0x219d2f61d90>,\n",
       " <matplotlib.axis.YTick at 0x219d494e430>,\n",
       " <matplotlib.axis.YTick at 0x219d2f79040>,\n",
       " <matplotlib.axis.YTick at 0x219d2f793d0>,\n",
       " <matplotlib.axis.YTick at 0x219d41b71f0>,\n",
       " <matplotlib.axis.YTick at 0x219d422eac0>,\n",
       " <matplotlib.axis.YTick at 0x219d37383d0>,\n",
       " <matplotlib.axis.YTick at 0x219d37388e0>,\n",
       " <matplotlib.axis.YTick at 0x219d3738df0>,\n",
       " <matplotlib.axis.YTick at 0x219d3738610>,\n",
       " <matplotlib.axis.YTick at 0x219d2f79bb0>,\n",
       " <matplotlib.axis.YTick at 0x219d2f5e3d0>,\n",
       " <matplotlib.axis.YTick at 0x219d370c460>,\n",
       " <matplotlib.axis.YTick at 0x219d370c970>,\n",
       " <matplotlib.axis.YTick at 0x219d370ce80>,\n",
       " <matplotlib.axis.YTick at 0x219d37353d0>,\n",
       " <matplotlib.axis.YTick at 0x219d37358e0>,\n",
       " <matplotlib.axis.YTick at 0x219d3735df0>,\n",
       " <matplotlib.axis.YTick at 0x219d3735610>,\n",
       " <matplotlib.axis.YTick at 0x219d370c6a0>,\n",
       " <matplotlib.axis.YTick at 0x219d3738040>,\n",
       " <matplotlib.axis.YTick at 0x219d37244f0>,\n",
       " <matplotlib.axis.YTick at 0x219d3724a00>,\n",
       " <matplotlib.axis.YTick at 0x219d3724f10>,\n",
       " <matplotlib.axis.YTick at 0x219d371e460>,\n",
       " <matplotlib.axis.YTick at 0x219d371e970>,\n",
       " <matplotlib.axis.YTick at 0x219d371ee80>,\n",
       " <matplotlib.axis.YTick at 0x219d371e6a0>,\n",
       " <matplotlib.axis.YTick at 0x219d3724730>,\n",
       " <matplotlib.axis.YTick at 0x219d3735040>,\n",
       " <matplotlib.axis.YTick at 0x219d3710580>,\n",
       " <matplotlib.axis.YTick at 0x219d3710a90>,\n",
       " <matplotlib.axis.YTick at 0x219d3710fa0>,\n",
       " <matplotlib.axis.YTick at 0x219d370d4f0>,\n",
       " <matplotlib.axis.YTick at 0x219d370da00>,\n",
       " <matplotlib.axis.YTick at 0x219d370df10>,\n",
       " <matplotlib.axis.YTick at 0x219d370d730>,\n",
       " <matplotlib.axis.YTick at 0x219d37107c0>,\n",
       " <matplotlib.axis.YTick at 0x219d371e0d0>,\n",
       " <matplotlib.axis.YTick at 0x219d3704610>,\n",
       " <matplotlib.axis.YTick at 0x219d3704b20>,\n",
       " <matplotlib.axis.YTick at 0x219d3714070>,\n",
       " <matplotlib.axis.YTick at 0x219d3714580>,\n",
       " <matplotlib.axis.YTick at 0x219d3714a90>,\n",
       " <matplotlib.axis.YTick at 0x219d3714fa0>,\n",
       " <matplotlib.axis.YTick at 0x219d37147c0>,\n",
       " <matplotlib.axis.YTick at 0x219d3704850>,\n",
       " <matplotlib.axis.YTick at 0x219d370d160>,\n",
       " <matplotlib.axis.YTick at 0x219d37256a0>,\n",
       " <matplotlib.axis.YTick at 0x219d3725bb0>,\n",
       " <matplotlib.axis.YTick at 0x219d3cb8100>,\n",
       " <matplotlib.axis.YTick at 0x219d3cb8610>,\n",
       " <matplotlib.axis.YTick at 0x219d3cb8b20>,\n",
       " <matplotlib.axis.YTick at 0x219d3c9cfa0>,\n",
       " <matplotlib.axis.YTick at 0x219d3cb8850>,\n",
       " <matplotlib.axis.YTick at 0x219d37258e0>,\n",
       " <matplotlib.axis.YTick at 0x219d37141f0>,\n",
       " <matplotlib.axis.YTick at 0x219d3c9c970>,\n",
       " <matplotlib.axis.YTick at 0x219d3c9c3d0>,\n",
       " <matplotlib.axis.YTick at 0x219d3c9d190>,\n",
       " <matplotlib.axis.YTick at 0x219d3c9d6a0>,\n",
       " <matplotlib.axis.YTick at 0x219d3c9dbb0>,\n",
       " <matplotlib.axis.YTick at 0x219d3c88100>,\n",
       " <matplotlib.axis.YTick at 0x219d3c9d8e0>,\n",
       " <matplotlib.axis.YTick at 0x219d3c9c670>,\n",
       " <matplotlib.axis.YTick at 0x219d3cb8280>,\n",
       " <matplotlib.axis.YTick at 0x219d3c887c0>]"
      ]
     },
     "execution_count": 75,
     "metadata": {},
     "output_type": "execute_result"
    },
    {
     "data": {
      "image/png": "[encoded data removed]",
      "text/plain": [
       "<Figure size 1080x720 with 1 Axes>"
      ]
     },
     "metadata": {
      "needs_background": "light"
     },
     "output_type": "display_data"
    }
   ],
   "source": [
    "fig = plt.figure(figsize = (15,10))\n",
    "ax = fig.add_subplot(111)\n",
    "freq1,_,_=ax.hist(jun_pr,bins=4,range=(0,200000))\n",
    "ax.set_xlabel('price')\n",
    "ax.set_xticks(np.linspace(0,200000,4+1))\n",
    "ax.set_yticks(np.arange(0,freq1.max()+1),10)\n",
    "plt.show()"
   ]
  }
 ],
 "metadata": {
  "kernelspec": {
   "display_name": "Python 3",
   "language": "python",
   "name": "python3"
  },
  "language_info": {
   "codemirror_mode": {
    "name": "ipython",
    "version": 3
   },
   "file_extension": ".py",
   "mimetype": "text/x-python",
   "name": "python",
   "nbconvert_exporter": "python",
   "pygments_lexer": "ipython3",
   "version": "3.8.8"
  }
 },
 "nbformat": 4,
 "nbformat_minor": 5
}
