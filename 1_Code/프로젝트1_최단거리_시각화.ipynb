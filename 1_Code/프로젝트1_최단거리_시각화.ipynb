{
 "cells": [
  {
   "cell_type": "code",
   "execution_count": 2,
   "id": "c7328bd9",
   "metadata": {},
   "outputs": [],
   "source": [
    "# matplotlib 패키지 등록\n",
    "import matplotlib.pyplot as plt\n",
    "%matplotlib inline\n",
    "\n",
    "#그래프는 show()함수를 통해서 독립창에서 실행되는 것이 원칙\n",
    "#그래프를 콘솔에서 바로 작동되록 하는 설정"
   ]
  },
  {
   "cell_type": "code",
   "execution_count": 3,
   "id": "a894e279",
   "metadata": {},
   "outputs": [],
   "source": [
    "import pandas as pd\n",
    "import numpy as np"
   ]
  },
  {
   "cell_type": "code",
   "execution_count": 4,
   "id": "a7981aa6",
   "metadata": {},
   "outputs": [],
   "source": [
    "from IPython.core.interactiveshell import InteractiveShell\n",
    "InteractiveShell.ast_node_interactivity=\"all\""
   ]
  },
  {
   "cell_type": "code",
   "execution_count": 5,
   "id": "a242ee45",
   "metadata": {},
   "outputs": [],
   "source": [
    "# 한글 문제\n",
    "# matplotlit의 기본 폰트에서 한글 지원되지 않기 때문에\n",
    "# matplotlib의 폰트 변경 필요\n",
    "import platform\n",
    "\n",
    "from matplotlib import font_manager, rc\n",
    "plt.rcParams['axes.unicode_minus'] = False\n",
    "\n",
    "if platform.system() == 'Darwin':  # 맥OS \n",
    "    rc('font', family='AppleGothic')\n",
    "elif platform.system() == 'Windows':  # 윈도우\n",
    "    path = \"c:/Windows/Fonts/malgun.ttf\"\n",
    "    font_name = font_manager.FontProperties(fname=path).get_name()\n",
    "    rc('font', family=font_name)\n",
    "else:\n",
    "    print('Unknown system...  sorry~~~')"
   ]
  },
  {
   "cell_type": "code",
   "execution_count": 6,
   "id": "5c410757",
   "metadata": {},
   "outputs": [],
   "source": [
    "mok = pd.read_csv('./data/목포_관광지_1_거리.csv')\n",
    "jun = pd.read_csv('./data/전주_관광지_1_거리.csv')"
   ]
  },
  {
   "cell_type": "code",
   "execution_count": 7,
   "id": "5549e14c",
   "metadata": {},
   "outputs": [
    {
     "name": "stdout",
     "output_type": "stream",
     "text": [
      "<class 'pandas.core.frame.DataFrame'>\n",
      "RangeIndex: 10 entries, 0 to 9\n",
      "Data columns (total 8 columns):\n",
      " #   Column        Non-Null Count  Dtype  \n",
      "---  ------        --------------  -----  \n",
      " 0   Unnamed: 0    10 non-null     int64  \n",
      " 1   Unnamed: 0.1  10 non-null     int64  \n",
      " 2   관광지이름         10 non-null     object \n",
      " 3   주소            10 non-null     object \n",
      " 4   위도            10 non-null     float64\n",
      " 5   경도            10 non-null     float64\n",
      " 6   최단거리          10 non-null     int64  \n",
      " 7   최단거리m         10 non-null     int64  \n",
      "dtypes: float64(2), int64(4), object(2)\n",
      "memory usage: 768.0+ bytes\n"
     ]
    }
   ],
   "source": [
    "mok.info()"
   ]
  },
  {
   "cell_type": "code",
   "execution_count": 8,
   "id": "06ffdd16",
   "metadata": {},
   "outputs": [
    {
     "data": {
      "text/html": [
       "<div>\n",
       "<style scoped>\n",
       "    .dataframe tbody tr th:only-of-type {\n",
       "        vertical-align: middle;\n",
       "    }\n",
       "\n",
       "    .dataframe tbody tr th {\n",
       "        vertical-align: top;\n",
       "    }\n",
       "\n",
       "    .dataframe thead th {\n",
       "        text-align: right;\n",
       "    }\n",
       "</style>\n",
       "<table border=\"1\" class=\"dataframe\">\n",
       "  <thead>\n",
       "    <tr style=\"text-align: right;\">\n",
       "      <th></th>\n",
       "      <th>Unnamed: 0</th>\n",
       "      <th>Unnamed: 0.1</th>\n",
       "      <th>위도</th>\n",
       "      <th>경도</th>\n",
       "      <th>최단거리</th>\n",
       "      <th>최단거리m</th>\n",
       "    </tr>\n",
       "  </thead>\n",
       "  <tbody>\n",
       "    <tr>\n",
       "      <th>count</th>\n",
       "      <td>10.00000</td>\n",
       "      <td>10.00000</td>\n",
       "      <td>10.000000</td>\n",
       "      <td>10.000000</td>\n",
       "      <td>10.000000</td>\n",
       "      <td>10.00000</td>\n",
       "    </tr>\n",
       "    <tr>\n",
       "      <th>mean</th>\n",
       "      <td>4.50000</td>\n",
       "      <td>4.50000</td>\n",
       "      <td>34.791734</td>\n",
       "      <td>126.396548</td>\n",
       "      <td>5.000000</td>\n",
       "      <td>467.00000</td>\n",
       "    </tr>\n",
       "    <tr>\n",
       "      <th>std</th>\n",
       "      <td>3.02765</td>\n",
       "      <td>3.02765</td>\n",
       "      <td>0.004988</td>\n",
       "      <td>0.023629</td>\n",
       "      <td>3.018462</td>\n",
       "      <td>321.31881</td>\n",
       "    </tr>\n",
       "    <tr>\n",
       "      <th>min</th>\n",
       "      <td>0.00000</td>\n",
       "      <td>0.00000</td>\n",
       "      <td>34.782840</td>\n",
       "      <td>126.364272</td>\n",
       "      <td>0.000000</td>\n",
       "      <td>175.00000</td>\n",
       "    </tr>\n",
       "    <tr>\n",
       "      <th>25%</th>\n",
       "      <td>2.25000</td>\n",
       "      <td>2.25000</td>\n",
       "      <td>34.789445</td>\n",
       "      <td>126.378019</td>\n",
       "      <td>3.000000</td>\n",
       "      <td>222.75000</td>\n",
       "    </tr>\n",
       "    <tr>\n",
       "      <th>50%</th>\n",
       "      <td>4.50000</td>\n",
       "      <td>4.50000</td>\n",
       "      <td>34.792153</td>\n",
       "      <td>126.389274</td>\n",
       "      <td>5.000000</td>\n",
       "      <td>400.00000</td>\n",
       "    </tr>\n",
       "    <tr>\n",
       "      <th>75%</th>\n",
       "      <td>6.75000</td>\n",
       "      <td>6.75000</td>\n",
       "      <td>34.793285</td>\n",
       "      <td>126.421581</td>\n",
       "      <td>7.000000</td>\n",
       "      <td>471.00000</td>\n",
       "    </tr>\n",
       "    <tr>\n",
       "      <th>max</th>\n",
       "      <td>9.00000</td>\n",
       "      <td>9.00000</td>\n",
       "      <td>34.801993</td>\n",
       "      <td>126.425762</td>\n",
       "      <td>9.000000</td>\n",
       "      <td>1170.00000</td>\n",
       "    </tr>\n",
       "  </tbody>\n",
       "</table>\n",
       "</div>"
      ],
      "text/plain": [
       "       Unnamed: 0  Unnamed: 0.1         위도          경도       최단거리       최단거리m\n",
       "count    10.00000      10.00000  10.000000   10.000000  10.000000    10.00000\n",
       "mean      4.50000       4.50000  34.791734  126.396548   5.000000   467.00000\n",
       "std       3.02765       3.02765   0.004988    0.023629   3.018462   321.31881\n",
       "min       0.00000       0.00000  34.782840  126.364272   0.000000   175.00000\n",
       "25%       2.25000       2.25000  34.789445  126.378019   3.000000   222.75000\n",
       "50%       4.50000       4.50000  34.792153  126.389274   5.000000   400.00000\n",
       "75%       6.75000       6.75000  34.793285  126.421581   7.000000   471.00000\n",
       "max       9.00000       9.00000  34.801993  126.425762   9.000000  1170.00000"
      ]
     },
     "execution_count": 8,
     "metadata": {},
     "output_type": "execute_result"
    }
   ],
   "source": [
    "mok.describe()"
   ]
  },
  {
   "cell_type": "code",
   "execution_count": 53,
   "id": "480e81d3",
   "metadata": {},
   "outputs": [],
   "source": [
    "np.random.seed(0)\n",
    "area=['목포','전주']\n",
    "y=np.arange(len(people))\n",
    "dit = [mok.mean()['최단거리m'],jun.mean()['최단거리m']]"
   ]
  },
  {
   "cell_type": "code",
   "execution_count": 55,
   "id": "de7f4bcc",
   "metadata": {},
   "outputs": [
    {
     "data": {
      "text/plain": [
       "Text(0.5, 1.0, '관광지 사이 최단 거리 평균')"
      ]
     },
     "execution_count": 55,
     "metadata": {},
     "output_type": "execute_result"
    },
    {
     "data": {
      "text/plain": [
       "<BarContainer object of 2 artists>"
      ]
     },
     "execution_count": 55,
     "metadata": {},
     "output_type": "execute_result"
    },
    {
     "data": {
      "text/plain": [
       "([<matplotlib.axis.YTick at 0x1ef8bdeb850>,\n",
       "  <matplotlib.axis.YTick at 0x1ef8bdeb520>],\n",
       " [Text(0, 0, '목포'), Text(0, 1, '전주')])"
      ]
     },
     "execution_count": 55,
     "metadata": {},
     "output_type": "execute_result"
    },
    {
     "data": {
      "text/plain": [
       "Text(0.5, 0, '미터(M)')"
      ]
     },
     "execution_count": 55,
     "metadata": {},
     "output_type": "execute_result"
    },
    {
     "data": {
      "image/png": "[encoded data removed]",
      "text/plain": [
       "<Figure size 432x288 with 1 Axes>"
      ]
     },
     "metadata": {
      "needs_background": "light"
     },
     "output_type": "display_data"
    }
   ],
   "source": [
    "# 세로 막대 그래프 그리기 - 옵션함수 이용해서 그래프 꾸미기\n",
    "plt.title(\"관광지 사이 최단 거리 평균\")\n",
    "plt.barh(y, dit, alpha = 1)\n",
    "plt.yticks(y, area)\n",
    "\n",
    "plt.xlabel('미터(M)')\n",
    "# plt.grid(True)\n",
    "plt.savefig('data/short_dit.png')\n"
   ]
  },
  {
   "cell_type": "code",
   "execution_count": null,
   "id": "3a95e3d0",
   "metadata": {},
   "outputs": [],
   "source": []
  },
  {
   "cell_type": "code",
   "execution_count": null,
   "id": "1dc99af4",
   "metadata": {},
   "outputs": [],
   "source": []
  },
  {
   "cell_type": "code",
   "execution_count": null,
   "id": "e236afee",
   "metadata": {},
   "outputs": [],
   "source": []
  },
  {
   "cell_type": "code",
   "execution_count": null,
   "id": "33535af9",
   "metadata": {},
   "outputs": [],
   "source": []
  },
  {
   "cell_type": "code",
   "execution_count": null,
   "id": "e5d0058b",
   "metadata": {},
   "outputs": [],
   "source": []
  },
  {
   "cell_type": "code",
   "execution_count": null,
   "id": "62e7b752",
   "metadata": {},
   "outputs": [],
   "source": []
  },
  {
   "cell_type": "code",
   "execution_count": null,
   "id": "ab37c91c",
   "metadata": {},
   "outputs": [],
   "source": []
  }
 ],
 "metadata": {
  "kernelspec": {
   "display_name": "Python 3",
   "language": "python",
   "name": "python3"
  },
  "language_info": {
   "codemirror_mode": {
    "name": "ipython",
    "version": 3
   },
   "file_extension": ".py",
   "mimetype": "text/x-python",
   "name": "python",
   "nbconvert_exporter": "python",
   "pygments_lexer": "ipython3",
   "version": "3.8.8"
  }
 },
 "nbformat": 4,
 "nbformat_minor": 5
}
