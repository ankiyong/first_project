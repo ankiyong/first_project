{
 "cells": [
  {
   "cell_type": "code",
   "execution_count": 54,
   "id": "03db59f6",
   "metadata": {},
   "outputs": [],
   "source": [
    "from haversine import haversine\n",
    "import pandas as pd"
   ]
  },
  {
   "cell_type": "code",
   "execution_count": 55,
   "id": "82a80008",
   "metadata": {},
   "outputs": [],
   "source": [
    "# 위경도\n",
    "A = [34.7913294,126.3766487]\n",
    "B = [34.7921333,126.4257616]"
   ]
  },
  {
   "cell_type": "code",
   "execution_count": 56,
   "id": "5f1ec4c1",
   "metadata": {},
   "outputs": [
    {
     "data": {
      "text/plain": [
       "4.485728951697647"
      ]
     },
     "execution_count": 56,
     "metadata": {},
     "output_type": "execute_result"
    }
   ],
   "source": [
    "# 거리계산\n",
    "haversine(A, B, unit = 'km')"
   ]
  },
  {
   "cell_type": "code",
   "execution_count": 57,
   "id": "44c40924",
   "metadata": {},
   "outputs": [],
   "source": [
    "#사용 데이터 읽어오기\n",
    "mok = pd.read_csv('./data/목포_관광지_1.csv',\n",
    "                               encoding='utf-8')"
   ]
  },
  {
   "cell_type": "code",
   "execution_count": 58,
   "id": "fcf53826",
   "metadata": {},
   "outputs": [
    {
     "data": {
      "text/html": [
       "<div>\n",
       "<style scoped>\n",
       "    .dataframe tbody tr th:only-of-type {\n",
       "        vertical-align: middle;\n",
       "    }\n",
       "\n",
       "    .dataframe tbody tr th {\n",
       "        vertical-align: top;\n",
       "    }\n",
       "\n",
       "    .dataframe thead th {\n",
       "        text-align: right;\n",
       "    }\n",
       "</style>\n",
       "<table border=\"1\" class=\"dataframe\">\n",
       "  <thead>\n",
       "    <tr style=\"text-align: right;\">\n",
       "      <th></th>\n",
       "      <th>Unnamed: 0</th>\n",
       "      <th>관광지이름</th>\n",
       "      <th>주소</th>\n",
       "      <th>위도</th>\n",
       "      <th>경도</th>\n",
       "    </tr>\n",
       "  </thead>\n",
       "  <tbody>\n",
       "    <tr>\n",
       "      <th>0</th>\n",
       "      <td>0</td>\n",
       "      <td>유달산</td>\n",
       "      <td>목포시 유달로 180</td>\n",
       "      <td>34.791329</td>\n",
       "      <td>126.376649</td>\n",
       "    </tr>\n",
       "    <tr>\n",
       "      <th>1</th>\n",
       "      <td>1</td>\n",
       "      <td>갓바위</td>\n",
       "      <td>전라남도 목포시 용해동 산86-24</td>\n",
       "      <td>34.792133</td>\n",
       "      <td>126.425762</td>\n",
       "    </tr>\n",
       "    <tr>\n",
       "      <th>2</th>\n",
       "      <td>2</td>\n",
       "      <td>목포근대역사관</td>\n",
       "      <td>전라남도 목포시 영산로29번길 6 문화원 목포 근대역사관 1관(구 목포일본영사관)</td>\n",
       "      <td>34.787514</td>\n",
       "      <td>126.382130</td>\n",
       "    </tr>\n",
       "    <tr>\n",
       "      <th>3</th>\n",
       "      <td>3</td>\n",
       "      <td>국립 해양 문화재 연구소 해양박물관</td>\n",
       "      <td>전라남도 목포시 남농로 136</td>\n",
       "      <td>34.792173</td>\n",
       "      <td>126.421745</td>\n",
       "    </tr>\n",
       "    <tr>\n",
       "      <th>4</th>\n",
       "      <td>4</td>\n",
       "      <td>목포대교</td>\n",
       "      <td>고하대로597번길 73</td>\n",
       "      <td>34.801993</td>\n",
       "      <td>126.364272</td>\n",
       "    </tr>\n",
       "    <tr>\n",
       "      <th>5</th>\n",
       "      <td>5</td>\n",
       "      <td>목포 자연사박물관</td>\n",
       "      <td>전라남도 목포시 용해동 남농로 135</td>\n",
       "      <td>34.793655</td>\n",
       "      <td>126.421087</td>\n",
       "    </tr>\n",
       "    <tr>\n",
       "      <th>6</th>\n",
       "      <td>6</td>\n",
       "      <td>국립해양유물전시관</td>\n",
       "      <td>전라남도 목포시 용해동 8</td>\n",
       "      <td>34.792173</td>\n",
       "      <td>126.421745</td>\n",
       "    </tr>\n",
       "    <tr>\n",
       "      <th>7</th>\n",
       "      <td>7</td>\n",
       "      <td>유달산 조각공원</td>\n",
       "      <td>전라남도 목포시 죽교동 120</td>\n",
       "      <td>34.794716</td>\n",
       "      <td>126.373541</td>\n",
       "    </tr>\n",
       "    <tr>\n",
       "      <th>8</th>\n",
       "      <td>8</td>\n",
       "      <td>김대중 노벨평화상 기념관</td>\n",
       "      <td>전라남도 목포시 만호동 삼학로92번길 68</td>\n",
       "      <td>34.782840</td>\n",
       "      <td>126.392330</td>\n",
       "    </tr>\n",
       "    <tr>\n",
       "      <th>9</th>\n",
       "      <td>9</td>\n",
       "      <td>목포 문화원</td>\n",
       "      <td>전라남도 목포시 목원동 해안로249번길 34</td>\n",
       "      <td>34.788818</td>\n",
       "      <td>126.386218</td>\n",
       "    </tr>\n",
       "  </tbody>\n",
       "</table>\n",
       "</div>"
      ],
      "text/plain": [
       "   Unnamed: 0                관광지이름  \\\n",
       "0           0                  유달산   \n",
       "1           1                  갓바위   \n",
       "2           2              목포근대역사관   \n",
       "3           3  국립 해양 문화재 연구소 해양박물관   \n",
       "4           4                 목포대교   \n",
       "5           5            목포 자연사박물관   \n",
       "6           6            국립해양유물전시관   \n",
       "7           7             유달산 조각공원   \n",
       "8           8        김대중 노벨평화상 기념관   \n",
       "9           9               목포 문화원   \n",
       "\n",
       "                                              주소         위도          경도  \n",
       "0                                    목포시 유달로 180  34.791329  126.376649  \n",
       "1                            전라남도 목포시 용해동 산86-24  34.792133  126.425762  \n",
       "2  전라남도 목포시 영산로29번길 6 문화원 목포 근대역사관 1관(구 목포일본영사관)  34.787514  126.382130  \n",
       "3                               전라남도 목포시 남농로 136  34.792173  126.421745  \n",
       "4                                   고하대로597번길 73  34.801993  126.364272  \n",
       "5                           전라남도 목포시 용해동 남농로 135  34.793655  126.421087  \n",
       "6                                 전라남도 목포시 용해동 8  34.792173  126.421745  \n",
       "7                               전라남도 목포시 죽교동 120  34.794716  126.373541  \n",
       "8                        전라남도 목포시 만호동 삼학로92번길 68  34.782840  126.392330  \n",
       "9                       전라남도 목포시 목원동 해안로249번길 34  34.788818  126.386218  "
      ]
     },
     "execution_count": 58,
     "metadata": {},
     "output_type": "execute_result"
    }
   ],
   "source": [
    "mok"
   ]
  },
  {
   "cell_type": "code",
   "execution_count": 72,
   "id": "4505a4b3",
   "metadata": {},
   "outputs": [],
   "source": [
    "d = []\n",
    "for i in range(0,len(mok['위도'])) :\n",
    "    d.append(mok['위도'][i])\n",
    "    d.append(mok['경도'][i])"
   ]
  },
  {
   "cell_type": "code",
   "execution_count": 73,
   "id": "cedb1bad",
   "metadata": {},
   "outputs": [
    {
     "data": {
      "text/plain": [
       "4.485728951697647"
      ]
     },
     "execution_count": 73,
     "metadata": {},
     "output_type": "execute_result"
    }
   ],
   "source": [
    "haversine((d[0],d[1]), (d[2],d[3]), unit = 'km')"
   ]
  },
  {
   "cell_type": "code",
   "execution_count": 134,
   "id": "e448bee0",
   "metadata": {},
   "outputs": [],
   "source": [
    "s_d = []\n",
    "s_ij = []"
   ]
  },
  {
   "cell_type": "code",
   "execution_count": 135,
   "id": "4f5230d2",
   "metadata": {},
   "outputs": [],
   "source": [
    "for i in range(0,len(mok['위도'])*2-1,+2) :\n",
    "    short_distance = 10000000\n",
    "    for j in range(0,len(mok['위도'])*2-1,+2) :\n",
    "        if ((d[i],d[i+1])==(d[j],d[j+1])) :\n",
    "            continue\n",
    "        elif ((haversine((d[i],d[i+1]), (d[j],d[j+1]), unit = 'm'))<short_distance):\n",
    "            short_distance = int(haversine((d[i],d[i+1]), (d[j],d[j+1]), unit = 'm'))\n",
    "            ii = i\n",
    "            jj = j\n",
    "    s_d.append(short_distance)\n",
    "#     if (ii == 0) :\n",
    "#         s_ij.append(ii)\n",
    "#     else :\n",
    "#         ii = ii/2\n",
    "#         s_ij.append(ii)\n",
    "    if (jj == 0) :\n",
    "        s_ij.append(jj)\n",
    "    else :\n",
    "        jj = int(jj/2)\n",
    "        s_ij.append(jj)"
   ]
  },
  {
   "cell_type": "code",
   "execution_count": 136,
   "id": "22eea4ae",
   "metadata": {},
   "outputs": [
    {
     "data": {
      "text/plain": [
       "[471, 366, 400, 175, 1170, 175, 175, 471, 867, 400]"
      ]
     },
     "execution_count": 136,
     "metadata": {},
     "output_type": "execute_result"
    }
   ],
   "source": [
    "s_d"
   ]
  },
  {
   "cell_type": "code",
   "execution_count": 137,
   "id": "b6303891",
   "metadata": {},
   "outputs": [
    {
     "data": {
      "text/plain": [
       "[7, 3, 9, 5, 7, 3, 5, 0, 9, 2]"
      ]
     },
     "execution_count": 137,
     "metadata": {},
     "output_type": "execute_result"
    }
   ],
   "source": [
    "s_ij"
   ]
  },
  {
   "cell_type": "code",
   "execution_count": 138,
   "id": "4da4c2ae",
   "metadata": {},
   "outputs": [],
   "source": [
    "mok['최단거리'] = s_ij"
   ]
  },
  {
   "cell_type": "code",
   "execution_count": 139,
   "id": "be9300c3",
   "metadata": {},
   "outputs": [],
   "source": [
    "mok['최단거리m'] = s_d"
   ]
  },
  {
   "cell_type": "code",
   "execution_count": 132,
   "id": "58cf6e47",
   "metadata": {},
   "outputs": [],
   "source": [
    "mok.drop(['최단거리km'], axis=1, inplace=True)"
   ]
  },
  {
   "cell_type": "code",
   "execution_count": 140,
   "id": "a408da43",
   "metadata": {},
   "outputs": [
    {
     "data": {
      "text/html": [
       "<div>\n",
       "<style scoped>\n",
       "    .dataframe tbody tr th:only-of-type {\n",
       "        vertical-align: middle;\n",
       "    }\n",
       "\n",
       "    .dataframe tbody tr th {\n",
       "        vertical-align: top;\n",
       "    }\n",
       "\n",
       "    .dataframe thead th {\n",
       "        text-align: right;\n",
       "    }\n",
       "</style>\n",
       "<table border=\"1\" class=\"dataframe\">\n",
       "  <thead>\n",
       "    <tr style=\"text-align: right;\">\n",
       "      <th></th>\n",
       "      <th>Unnamed: 0</th>\n",
       "      <th>관광지이름</th>\n",
       "      <th>주소</th>\n",
       "      <th>위도</th>\n",
       "      <th>경도</th>\n",
       "      <th>최단거리</th>\n",
       "      <th>최단거리m</th>\n",
       "    </tr>\n",
       "  </thead>\n",
       "  <tbody>\n",
       "    <tr>\n",
       "      <th>0</th>\n",
       "      <td>0</td>\n",
       "      <td>유달산</td>\n",
       "      <td>목포시 유달로 180</td>\n",
       "      <td>34.791329</td>\n",
       "      <td>126.376649</td>\n",
       "      <td>7</td>\n",
       "      <td>471</td>\n",
       "    </tr>\n",
       "    <tr>\n",
       "      <th>1</th>\n",
       "      <td>1</td>\n",
       "      <td>갓바위</td>\n",
       "      <td>전라남도 목포시 용해동 산86-24</td>\n",
       "      <td>34.792133</td>\n",
       "      <td>126.425762</td>\n",
       "      <td>3</td>\n",
       "      <td>366</td>\n",
       "    </tr>\n",
       "    <tr>\n",
       "      <th>2</th>\n",
       "      <td>2</td>\n",
       "      <td>목포근대역사관</td>\n",
       "      <td>전라남도 목포시 영산로29번길 6 문화원 목포 근대역사관 1관(구 목포일본영사관)</td>\n",
       "      <td>34.787514</td>\n",
       "      <td>126.382130</td>\n",
       "      <td>9</td>\n",
       "      <td>400</td>\n",
       "    </tr>\n",
       "    <tr>\n",
       "      <th>3</th>\n",
       "      <td>3</td>\n",
       "      <td>국립 해양 문화재 연구소 해양박물관</td>\n",
       "      <td>전라남도 목포시 남농로 136</td>\n",
       "      <td>34.792173</td>\n",
       "      <td>126.421745</td>\n",
       "      <td>5</td>\n",
       "      <td>175</td>\n",
       "    </tr>\n",
       "    <tr>\n",
       "      <th>4</th>\n",
       "      <td>4</td>\n",
       "      <td>목포대교</td>\n",
       "      <td>고하대로597번길 73</td>\n",
       "      <td>34.801993</td>\n",
       "      <td>126.364272</td>\n",
       "      <td>7</td>\n",
       "      <td>1170</td>\n",
       "    </tr>\n",
       "    <tr>\n",
       "      <th>5</th>\n",
       "      <td>5</td>\n",
       "      <td>목포 자연사박물관</td>\n",
       "      <td>전라남도 목포시 용해동 남농로 135</td>\n",
       "      <td>34.793655</td>\n",
       "      <td>126.421087</td>\n",
       "      <td>3</td>\n",
       "      <td>175</td>\n",
       "    </tr>\n",
       "    <tr>\n",
       "      <th>6</th>\n",
       "      <td>6</td>\n",
       "      <td>국립해양유물전시관</td>\n",
       "      <td>전라남도 목포시 용해동 8</td>\n",
       "      <td>34.792173</td>\n",
       "      <td>126.421745</td>\n",
       "      <td>5</td>\n",
       "      <td>175</td>\n",
       "    </tr>\n",
       "    <tr>\n",
       "      <th>7</th>\n",
       "      <td>7</td>\n",
       "      <td>유달산 조각공원</td>\n",
       "      <td>전라남도 목포시 죽교동 120</td>\n",
       "      <td>34.794716</td>\n",
       "      <td>126.373541</td>\n",
       "      <td>0</td>\n",
       "      <td>471</td>\n",
       "    </tr>\n",
       "    <tr>\n",
       "      <th>8</th>\n",
       "      <td>8</td>\n",
       "      <td>김대중 노벨평화상 기념관</td>\n",
       "      <td>전라남도 목포시 만호동 삼학로92번길 68</td>\n",
       "      <td>34.782840</td>\n",
       "      <td>126.392330</td>\n",
       "      <td>9</td>\n",
       "      <td>867</td>\n",
       "    </tr>\n",
       "    <tr>\n",
       "      <th>9</th>\n",
       "      <td>9</td>\n",
       "      <td>목포 문화원</td>\n",
       "      <td>전라남도 목포시 목원동 해안로249번길 34</td>\n",
       "      <td>34.788818</td>\n",
       "      <td>126.386218</td>\n",
       "      <td>2</td>\n",
       "      <td>400</td>\n",
       "    </tr>\n",
       "  </tbody>\n",
       "</table>\n",
       "</div>"
      ],
      "text/plain": [
       "   Unnamed: 0                관광지이름  \\\n",
       "0           0                  유달산   \n",
       "1           1                  갓바위   \n",
       "2           2              목포근대역사관   \n",
       "3           3  국립 해양 문화재 연구소 해양박물관   \n",
       "4           4                 목포대교   \n",
       "5           5            목포 자연사박물관   \n",
       "6           6            국립해양유물전시관   \n",
       "7           7             유달산 조각공원   \n",
       "8           8        김대중 노벨평화상 기념관   \n",
       "9           9               목포 문화원   \n",
       "\n",
       "                                              주소         위도          경도  최단거리  \\\n",
       "0                                    목포시 유달로 180  34.791329  126.376649     7   \n",
       "1                            전라남도 목포시 용해동 산86-24  34.792133  126.425762     3   \n",
       "2  전라남도 목포시 영산로29번길 6 문화원 목포 근대역사관 1관(구 목포일본영사관)  34.787514  126.382130     9   \n",
       "3                               전라남도 목포시 남농로 136  34.792173  126.421745     5   \n",
       "4                                   고하대로597번길 73  34.801993  126.364272     7   \n",
       "5                           전라남도 목포시 용해동 남농로 135  34.793655  126.421087     3   \n",
       "6                                 전라남도 목포시 용해동 8  34.792173  126.421745     5   \n",
       "7                               전라남도 목포시 죽교동 120  34.794716  126.373541     0   \n",
       "8                        전라남도 목포시 만호동 삼학로92번길 68  34.782840  126.392330     9   \n",
       "9                       전라남도 목포시 목원동 해안로249번길 34  34.788818  126.386218     2   \n",
       "\n",
       "   최단거리m  \n",
       "0    471  \n",
       "1    366  \n",
       "2    400  \n",
       "3    175  \n",
       "4   1170  \n",
       "5    175  \n",
       "6    175  \n",
       "7    471  \n",
       "8    867  \n",
       "9    400  "
      ]
     },
     "execution_count": 140,
     "metadata": {},
     "output_type": "execute_result"
    }
   ],
   "source": [
    "mok"
   ]
  },
  {
   "cell_type": "code",
   "execution_count": 141,
   "id": "0f297b43",
   "metadata": {},
   "outputs": [],
   "source": [
    "mok.to_csv('목포_관광지_1_거리.csv')"
   ]
  }
 ],
 "metadata": {
  "kernelspec": {
   "display_name": "Python 3",
   "language": "python",
   "name": "python3"
  },
  "language_info": {
   "codemirror_mode": {
    "name": "ipython",
    "version": 3
   },
   "file_extension": ".py",
   "mimetype": "text/x-python",
   "name": "python",
   "nbconvert_exporter": "python",
   "pygments_lexer": "ipython3",
   "version": "3.8.8"
  }
 },
 "nbformat": 4,
 "nbformat_minor": 5
}
